{
  "nbformat": 4,
  "nbformat_minor": 0,
  "metadata": {
    "colab": {
      "provenance": [],
      "toc_visible": true,
      "mount_file_id": "1sIDGqwOYG9K3hrFk1ls325Ids2KJUXkC",
      "authorship_tag": "ABX9TyPpeOVKmR9rLzQa7UombYnx",
      "include_colab_link": true
    },
    "kernelspec": {
      "name": "python3",
      "display_name": "Python 3"
    },
    "language_info": {
      "name": "python"
    }
  },
  "cells": [
    {
      "cell_type": "markdown",
      "metadata": {
        "id": "view-in-github",
        "colab_type": "text"
      },
      "source": [
        "<a href=\"https://colab.research.google.com/github/Elispreng/Project-1-Grocery-Sales/blob/main/Spreng_Project1_Final.ipynb\" target=\"_parent\"><img src=\"https://colab.research.google.com/assets/colab-badge.svg\" alt=\"Open In Colab\"/></a>"
      ]
    },
    {
      "cell_type": "markdown",
      "source": [
        "# Load the Data and Import Packages"
      ],
      "metadata": {
        "id": "alXssZa7Nblm"
      }
    },
    {
      "cell_type": "code",
      "execution_count": 57,
      "metadata": {
        "id": "G4Jzt-3ENMds"
      },
      "outputs": [],
      "source": [
        "#load the pandas and google drive\n",
        "import pandas as pd\n",
        "import numpy as np\n",
        "\n",
        "from google.colab import drive\n",
        "\n",
        "# Import packages for machine learning\n",
        "from sklearn.model_selection import train_test_split\n",
        "from sklearn.compose import make_column_selector\n",
        "from sklearn.preprocessing import  OneHotEncoder, StandardScaler\n",
        "from sklearn.compose import make_column_transformer, make_column_selector\n",
        "from sklearn.pipeline import make_pipeline\n",
        "from sklearn.impute import SimpleImputer\n",
        "\n",
        "from sklearn import set_config\n",
        "set_config(display='diagram')\n",
        "\n",
        "## Regression Metrics\n",
        "from sklearn.metrics import r2_score\n",
        "from sklearn.metrics import mean_absolute_error\n",
        "from sklearn.metrics import mean_squared_error\n",
        "\n",
        "# import packages for linear regression\n",
        "from sklearn.linear_model import LinearRegression\n",
        "\n",
        "# import packages for a regression tree\n",
        "import matplotlib.pyplot as plt\n",
        "import seaborn as sns\n",
        "from sklearn.tree import DecisionTreeRegressor\n",
        "\n",
        "#import packages for bagged trees\n",
        "from sklearn.ensemble import BaggingRegressor"
      ]
    },
    {
      "cell_type": "code",
      "source": [
        "#  create a model metrics fucnction for true and predicted values\n",
        "## print MAE, MSE, RMSE, and R2 metrics\n",
        "def model_metrics(pipe, x_train, y_train, x_test, y_test, \n",
        "                       model_name='Regression Model', ):\n",
        "  ## Train\n",
        "  mae = round(mean_absolute_error(y_train, pipe.predict(x_train)),4)\n",
        "  mse = round(mean_squared_error(y_train, pipe.predict(x_train)),4)\n",
        "  rmse = round(np.sqrt(mean_squared_error(y_train, pipe.predict(x_train))),4)\n",
        "  r2 = round(r2_score(y_train, pipe.predict(x_train)),7)\n",
        "  print(f'{model_name} Train Scores')\n",
        "  print(f'MAE: {mae} \\nMSE: {mse} \\nRMSE: {rmse} \\nR2: {r2}\\n')\n",
        "\n",
        "  ## Test\n",
        "  mae = round(mean_absolute_error(y_test, pipe.predict(x_test)),4)\n",
        "  mse = round(mean_squared_error(y_test, pipe.predict(x_test)),4)\n",
        "  rmse = round(np.sqrt(mean_squared_error(y_test, pipe.predict(x_test))),4)\n",
        "  r2 = round(r2_score(y_test, pipe.predict(x_test)),7)\n",
        "\n",
        "  ## Display the metrics for the model\n",
        "  print(f'{model_name} Test Scores')\n",
        "  print(f'MAE: {mae} \\nMSE: {mse} \\nRMSE: {rmse} \\nR2: {r2}\\n')\n"
      ],
      "metadata": {
        "id": "KCbb18L45IvG"
      },
      "execution_count": 54,
      "outputs": []
    },
    {
      "cell_type": "code",
      "source": [
        "#load data and create the pandas dataframe\n",
        "filename = '/content/drive/MyDrive/Data Fundamental/#3 Exploratory Viz/sales_predictions - sales_predictions.csv'\n",
        "df_grocery = pd.read_csv(filename)"
      ],
      "metadata": {
        "id": "09cmr8nVN-j4"
      },
      "execution_count": 28,
      "outputs": []
    },
    {
      "cell_type": "markdown",
      "source": [
        "# Inspect the Data"
      ],
      "metadata": {
        "id": "89qLveNQOael"
      }
    },
    {
      "cell_type": "code",
      "source": [
        "#look at the dataframe columns and the first  five lines of the data \n",
        "df_grocery. head()\n"
      ],
      "metadata": {
        "colab": {
          "base_uri": "https://localhost:8080/",
          "height": 357
        },
        "id": "0JIEpgNzOevz",
        "outputId": "be2442dd-e8a9-4a24-d812-407fd3d0d284"
      },
      "execution_count": 29,
      "outputs": [
        {
          "output_type": "execute_result",
          "data": {
            "text/plain": [
              "  Item_Identifier  Item_Weight Item_Fat_Content  Item_Visibility  \\\n",
              "0           FDA15         9.30          Low Fat         0.016047   \n",
              "1           DRC01         5.92          Regular         0.019278   \n",
              "2           FDN15        17.50          Low Fat         0.016760   \n",
              "3           FDX07        19.20          Regular         0.000000   \n",
              "4           NCD19         8.93          Low Fat         0.000000   \n",
              "\n",
              "               Item_Type  Item_MRP Outlet_Identifier  \\\n",
              "0                  Dairy  249.8092            OUT049   \n",
              "1            Soft Drinks   48.2692            OUT018   \n",
              "2                   Meat  141.6180            OUT049   \n",
              "3  Fruits and Vegetables  182.0950            OUT010   \n",
              "4              Household   53.8614            OUT013   \n",
              "\n",
              "   Outlet_Establishment_Year Outlet_Size Outlet_Location_Type  \\\n",
              "0                       1999      Medium               Tier 1   \n",
              "1                       2009      Medium               Tier 3   \n",
              "2                       1999      Medium               Tier 1   \n",
              "3                       1998         NaN               Tier 3   \n",
              "4                       1987        High               Tier 3   \n",
              "\n",
              "         Outlet_Type  Item_Outlet_Sales  \n",
              "0  Supermarket Type1          3735.1380  \n",
              "1  Supermarket Type2           443.4228  \n",
              "2  Supermarket Type1          2097.2700  \n",
              "3      Grocery Store           732.3800  \n",
              "4  Supermarket Type1           994.7052  "
            ],
            "text/html": [
              "\n",
              "  <div id=\"df-bdaead9e-3332-445c-b726-952ddc010759\">\n",
              "    <div class=\"colab-df-container\">\n",
              "      <div>\n",
              "<style scoped>\n",
              "    .dataframe tbody tr th:only-of-type {\n",
              "        vertical-align: middle;\n",
              "    }\n",
              "\n",
              "    .dataframe tbody tr th {\n",
              "        vertical-align: top;\n",
              "    }\n",
              "\n",
              "    .dataframe thead th {\n",
              "        text-align: right;\n",
              "    }\n",
              "</style>\n",
              "<table border=\"1\" class=\"dataframe\">\n",
              "  <thead>\n",
              "    <tr style=\"text-align: right;\">\n",
              "      <th></th>\n",
              "      <th>Item_Identifier</th>\n",
              "      <th>Item_Weight</th>\n",
              "      <th>Item_Fat_Content</th>\n",
              "      <th>Item_Visibility</th>\n",
              "      <th>Item_Type</th>\n",
              "      <th>Item_MRP</th>\n",
              "      <th>Outlet_Identifier</th>\n",
              "      <th>Outlet_Establishment_Year</th>\n",
              "      <th>Outlet_Size</th>\n",
              "      <th>Outlet_Location_Type</th>\n",
              "      <th>Outlet_Type</th>\n",
              "      <th>Item_Outlet_Sales</th>\n",
              "    </tr>\n",
              "  </thead>\n",
              "  <tbody>\n",
              "    <tr>\n",
              "      <th>0</th>\n",
              "      <td>FDA15</td>\n",
              "      <td>9.30</td>\n",
              "      <td>Low Fat</td>\n",
              "      <td>0.016047</td>\n",
              "      <td>Dairy</td>\n",
              "      <td>249.8092</td>\n",
              "      <td>OUT049</td>\n",
              "      <td>1999</td>\n",
              "      <td>Medium</td>\n",
              "      <td>Tier 1</td>\n",
              "      <td>Supermarket Type1</td>\n",
              "      <td>3735.1380</td>\n",
              "    </tr>\n",
              "    <tr>\n",
              "      <th>1</th>\n",
              "      <td>DRC01</td>\n",
              "      <td>5.92</td>\n",
              "      <td>Regular</td>\n",
              "      <td>0.019278</td>\n",
              "      <td>Soft Drinks</td>\n",
              "      <td>48.2692</td>\n",
              "      <td>OUT018</td>\n",
              "      <td>2009</td>\n",
              "      <td>Medium</td>\n",
              "      <td>Tier 3</td>\n",
              "      <td>Supermarket Type2</td>\n",
              "      <td>443.4228</td>\n",
              "    </tr>\n",
              "    <tr>\n",
              "      <th>2</th>\n",
              "      <td>FDN15</td>\n",
              "      <td>17.50</td>\n",
              "      <td>Low Fat</td>\n",
              "      <td>0.016760</td>\n",
              "      <td>Meat</td>\n",
              "      <td>141.6180</td>\n",
              "      <td>OUT049</td>\n",
              "      <td>1999</td>\n",
              "      <td>Medium</td>\n",
              "      <td>Tier 1</td>\n",
              "      <td>Supermarket Type1</td>\n",
              "      <td>2097.2700</td>\n",
              "    </tr>\n",
              "    <tr>\n",
              "      <th>3</th>\n",
              "      <td>FDX07</td>\n",
              "      <td>19.20</td>\n",
              "      <td>Regular</td>\n",
              "      <td>0.000000</td>\n",
              "      <td>Fruits and Vegetables</td>\n",
              "      <td>182.0950</td>\n",
              "      <td>OUT010</td>\n",
              "      <td>1998</td>\n",
              "      <td>NaN</td>\n",
              "      <td>Tier 3</td>\n",
              "      <td>Grocery Store</td>\n",
              "      <td>732.3800</td>\n",
              "    </tr>\n",
              "    <tr>\n",
              "      <th>4</th>\n",
              "      <td>NCD19</td>\n",
              "      <td>8.93</td>\n",
              "      <td>Low Fat</td>\n",
              "      <td>0.000000</td>\n",
              "      <td>Household</td>\n",
              "      <td>53.8614</td>\n",
              "      <td>OUT013</td>\n",
              "      <td>1987</td>\n",
              "      <td>High</td>\n",
              "      <td>Tier 3</td>\n",
              "      <td>Supermarket Type1</td>\n",
              "      <td>994.7052</td>\n",
              "    </tr>\n",
              "  </tbody>\n",
              "</table>\n",
              "</div>\n",
              "      <button class=\"colab-df-convert\" onclick=\"convertToInteractive('df-bdaead9e-3332-445c-b726-952ddc010759')\"\n",
              "              title=\"Convert this dataframe to an interactive table.\"\n",
              "              style=\"display:none;\">\n",
              "        \n",
              "  <svg xmlns=\"http://www.w3.org/2000/svg\" height=\"24px\"viewBox=\"0 0 24 24\"\n",
              "       width=\"24px\">\n",
              "    <path d=\"M0 0h24v24H0V0z\" fill=\"none\"/>\n",
              "    <path d=\"M18.56 5.44l.94 2.06.94-2.06 2.06-.94-2.06-.94-.94-2.06-.94 2.06-2.06.94zm-11 1L8.5 8.5l.94-2.06 2.06-.94-2.06-.94L8.5 2.5l-.94 2.06-2.06.94zm10 10l.94 2.06.94-2.06 2.06-.94-2.06-.94-.94-2.06-.94 2.06-2.06.94z\"/><path d=\"M17.41 7.96l-1.37-1.37c-.4-.4-.92-.59-1.43-.59-.52 0-1.04.2-1.43.59L10.3 9.45l-7.72 7.72c-.78.78-.78 2.05 0 2.83L4 21.41c.39.39.9.59 1.41.59.51 0 1.02-.2 1.41-.59l7.78-7.78 2.81-2.81c.8-.78.8-2.07 0-2.86zM5.41 20L4 18.59l7.72-7.72 1.47 1.35L5.41 20z\"/>\n",
              "  </svg>\n",
              "      </button>\n",
              "      \n",
              "  <style>\n",
              "    .colab-df-container {\n",
              "      display:flex;\n",
              "      flex-wrap:wrap;\n",
              "      gap: 12px;\n",
              "    }\n",
              "\n",
              "    .colab-df-convert {\n",
              "      background-color: #E8F0FE;\n",
              "      border: none;\n",
              "      border-radius: 50%;\n",
              "      cursor: pointer;\n",
              "      display: none;\n",
              "      fill: #1967D2;\n",
              "      height: 32px;\n",
              "      padding: 0 0 0 0;\n",
              "      width: 32px;\n",
              "    }\n",
              "\n",
              "    .colab-df-convert:hover {\n",
              "      background-color: #E2EBFA;\n",
              "      box-shadow: 0px 1px 2px rgba(60, 64, 67, 0.3), 0px 1px 3px 1px rgba(60, 64, 67, 0.15);\n",
              "      fill: #174EA6;\n",
              "    }\n",
              "\n",
              "    [theme=dark] .colab-df-convert {\n",
              "      background-color: #3B4455;\n",
              "      fill: #D2E3FC;\n",
              "    }\n",
              "\n",
              "    [theme=dark] .colab-df-convert:hover {\n",
              "      background-color: #434B5C;\n",
              "      box-shadow: 0px 1px 3px 1px rgba(0, 0, 0, 0.15);\n",
              "      filter: drop-shadow(0px 1px 2px rgba(0, 0, 0, 0.3));\n",
              "      fill: #FFFFFF;\n",
              "    }\n",
              "  </style>\n",
              "\n",
              "      <script>\n",
              "        const buttonEl =\n",
              "          document.querySelector('#df-bdaead9e-3332-445c-b726-952ddc010759 button.colab-df-convert');\n",
              "        buttonEl.style.display =\n",
              "          google.colab.kernel.accessAllowed ? 'block' : 'none';\n",
              "\n",
              "        async function convertToInteractive(key) {\n",
              "          const element = document.querySelector('#df-bdaead9e-3332-445c-b726-952ddc010759');\n",
              "          const dataTable =\n",
              "            await google.colab.kernel.invokeFunction('convertToInteractive',\n",
              "                                                     [key], {});\n",
              "          if (!dataTable) return;\n",
              "\n",
              "          const docLinkHtml = 'Like what you see? Visit the ' +\n",
              "            '<a target=\"_blank\" href=https://colab.research.google.com/notebooks/data_table.ipynb>data table notebook</a>'\n",
              "            + ' to learn more about interactive tables.';\n",
              "          element.innerHTML = '';\n",
              "          dataTable['output_type'] = 'display_data';\n",
              "          await google.colab.output.renderOutput(dataTable, element);\n",
              "          const docLink = document.createElement('div');\n",
              "          docLink.innerHTML = docLinkHtml;\n",
              "          element.appendChild(docLink);\n",
              "        }\n",
              "      </script>\n",
              "    </div>\n",
              "  </div>\n",
              "  "
            ]
          },
          "metadata": {},
          "execution_count": 29
        }
      ]
    },
    {
      "cell_type": "code",
      "source": [
        "df_grocery.info()"
      ],
      "metadata": {
        "colab": {
          "base_uri": "https://localhost:8080/"
        },
        "id": "2_ZBjL6YQL8X",
        "outputId": "7030149a-3098-48b2-faac-1b22b568b2fd"
      },
      "execution_count": 30,
      "outputs": [
        {
          "output_type": "stream",
          "name": "stdout",
          "text": [
            "<class 'pandas.core.frame.DataFrame'>\n",
            "RangeIndex: 8523 entries, 0 to 8522\n",
            "Data columns (total 12 columns):\n",
            " #   Column                     Non-Null Count  Dtype  \n",
            "---  ------                     --------------  -----  \n",
            " 0   Item_Identifier            8523 non-null   object \n",
            " 1   Item_Weight                7060 non-null   float64\n",
            " 2   Item_Fat_Content           8523 non-null   object \n",
            " 3   Item_Visibility            8523 non-null   float64\n",
            " 4   Item_Type                  8523 non-null   object \n",
            " 5   Item_MRP                   8523 non-null   float64\n",
            " 6   Outlet_Identifier          8523 non-null   object \n",
            " 7   Outlet_Establishment_Year  8523 non-null   int64  \n",
            " 8   Outlet_Size                6113 non-null   object \n",
            " 9   Outlet_Location_Type       8523 non-null   object \n",
            " 10  Outlet_Type                8523 non-null   object \n",
            " 11  Item_Outlet_Sales          8523 non-null   float64\n",
            "dtypes: float64(4), int64(1), object(7)\n",
            "memory usage: 799.2+ KB\n"
          ]
        }
      ]
    },
    {
      "cell_type": "markdown",
      "source": [
        "# Data Cleaning and Initial Data Preperation"
      ],
      "metadata": {
        "id": "6CTadpObPWnD"
      }
    },
    {
      "cell_type": "code",
      "source": [
        "# Remove Unnecesary Columns if there are any\n",
        "# There are no unnecessary columns"
      ],
      "metadata": {
        "id": "UNn2l2BjPjgt"
      },
      "execution_count": 31,
      "outputs": []
    },
    {
      "cell_type": "code",
      "source": [
        "# check for duplicate rows\n",
        "df_grocery.duplicated().sum()"
      ],
      "metadata": {
        "colab": {
          "base_uri": "https://localhost:8080/"
        },
        "id": "uYlEtiCVSpei",
        "outputId": "9fb57760-f912-4d16-9b80-6b0a91ea9af4"
      },
      "execution_count": 32,
      "outputs": [
        {
          "output_type": "execute_result",
          "data": {
            "text/plain": [
              "0"
            ]
          },
          "metadata": {},
          "execution_count": 32
        }
      ]
    },
    {
      "cell_type": "code",
      "source": [
        "#check for missing values\n",
        "df_grocery.isna().sum()"
      ],
      "metadata": {
        "colab": {
          "base_uri": "https://localhost:8080/"
        },
        "id": "VDqgzHRzTjrY",
        "outputId": "6366c1f6-4b99-4abd-c748-1c3c5d4f331c"
      },
      "execution_count": 33,
      "outputs": [
        {
          "output_type": "execute_result",
          "data": {
            "text/plain": [
              "Item_Identifier                 0\n",
              "Item_Weight                  1463\n",
              "Item_Fat_Content                0\n",
              "Item_Visibility                 0\n",
              "Item_Type                       0\n",
              "Item_MRP                        0\n",
              "Outlet_Identifier               0\n",
              "Outlet_Establishment_Year       0\n",
              "Outlet_Size                  2410\n",
              "Outlet_Location_Type            0\n",
              "Outlet_Type                     0\n",
              "Item_Outlet_Sales               0\n",
              "dtype: int64"
            ]
          },
          "metadata": {},
          "execution_count": 33
        }
      ]
    },
    {
      "cell_type": "code",
      "source": [
        "# check for inconsistencies in the fat content\n",
        "df_grocery['Item_Fat_Content'].unique()\n"
      ],
      "metadata": {
        "colab": {
          "base_uri": "https://localhost:8080/"
        },
        "id": "1z77IaUkUbI1",
        "outputId": "3c86284b-c78a-463b-c26c-070fd7356554"
      },
      "execution_count": 34,
      "outputs": [
        {
          "output_type": "execute_result",
          "data": {
            "text/plain": [
              "array(['Low Fat', 'Regular', 'low fat', 'LF', 'reg'], dtype=object)"
            ]
          },
          "metadata": {},
          "execution_count": 34
        }
      ]
    },
    {
      "cell_type": "code",
      "source": [
        "# fix the inconsistencies\n",
        "df_grocery['Item_Fat_Content'] = df_grocery['Item_Fat_Content'].replace('LF', 'Low Fat')\n",
        "df_grocery['Item_Fat_Content'] = df_grocery['Item_Fat_Content'].replace('low fat', 'Low Fat')\n",
        "df_grocery['Item_Fat_Content'] = df_grocery['Item_Fat_Content'].replace('reg', 'Regular')\n",
        "#check the column\n",
        "df_grocery['Item_Fat_Content'].value_counts()\n"
      ],
      "metadata": {
        "colab": {
          "base_uri": "https://localhost:8080/"
        },
        "id": "m1XE1ypepmtm",
        "outputId": "e6dcc9bb-c8cb-45d6-8182-a188a43ef1ba"
      },
      "execution_count": 35,
      "outputs": [
        {
          "output_type": "execute_result",
          "data": {
            "text/plain": [
              "Low Fat    5517\n",
              "Regular    3006\n",
              "Name: Item_Fat_Content, dtype: int64"
            ]
          },
          "metadata": {},
          "execution_count": 35
        }
      ]
    },
    {
      "cell_type": "code",
      "source": [
        "# check the missing values for irregularities\n",
        "df_grocery['Item_Weight'].describe()"
      ],
      "metadata": {
        "id": "SMe1yq36YZI_",
        "colab": {
          "base_uri": "https://localhost:8080/"
        },
        "outputId": "06ba3f0e-e2fc-43c0-c237-b443ff968719"
      },
      "execution_count": 36,
      "outputs": [
        {
          "output_type": "execute_result",
          "data": {
            "text/plain": [
              "count    7060.000000\n",
              "mean       12.857645\n",
              "std         4.643456\n",
              "min         4.555000\n",
              "25%         8.773750\n",
              "50%        12.600000\n",
              "75%        16.850000\n",
              "max        21.350000\n",
              "Name: Item_Weight, dtype: float64"
            ]
          },
          "metadata": {},
          "execution_count": 36
        }
      ]
    },
    {
      "cell_type": "markdown",
      "source": [
        "# Split the Data"
      ],
      "metadata": {
        "id": "j2aOiOYHeGeM"
      }
    },
    {
      "cell_type": "code",
      "source": [
        "# #define X and y\n",
        "target = 'Item_Outlet_Sales'\n",
        "X = df_grocery.drop(columns =[target]).copy()\n",
        "y = df_grocery[target].copy()"
      ],
      "metadata": {
        "id": "S4cblEy1ebPN"
      },
      "execution_count": 38,
      "outputs": []
    },
    {
      "cell_type": "code",
      "source": [
        "#create the test/train split\n",
        "X_train, X_test, y_train, y_test = train_test_split(X, y, random_state = 42)"
      ],
      "metadata": {
        "id": "vSAtmzeJlb8w"
      },
      "execution_count": 39,
      "outputs": []
    },
    {
      "cell_type": "markdown",
      "source": [
        "# Instantiate the Transformers and Column Selectors"
      ],
      "metadata": {
        "id": "pKbV2wR6sbWQ"
      }
    },
    {
      "cell_type": "code",
      "source": [
        "# instantiate the Standard Scaler and Imputers\n",
        "scaler = StandardScaler()\n",
        "ohe = OneHotEncoder(sparse = False, handle_unknown= 'ignore')\n",
        "\n",
        "freq_imputer = SimpleImputer(strategy='most_frequent')\n",
        "mean_imputer = SimpleImputer(strategy='mean')"
      ],
      "metadata": {
        "id": "U8PeGwSYvU6N"
      },
      "execution_count": 40,
      "outputs": []
    },
    {
      "cell_type": "code",
      "source": [
        "# Selectors\n",
        "cat_selector = make_column_selector(dtype_include='object')\n",
        "num_selector = make_column_selector(dtype_include='number')"
      ],
      "metadata": {
        "id": "j7CCg8lw4QZk"
      },
      "execution_count": 41,
      "outputs": []
    },
    {
      "cell_type": "markdown",
      "source": [
        "# Create Preprocessing Pipeline for Numeric Values and Categorical Data"
      ],
      "metadata": {
        "id": "tWT1Zr2est0U"
      }
    },
    {
      "cell_type": "code",
      "source": [
        "# Numeric pipeline\n",
        "numeric_pipe = make_pipeline(mean_imputer, scaler)\n",
        "numeric_pipe"
      ],
      "metadata": {
        "id": "_R7okoAE4cUV",
        "colab": {
          "base_uri": "https://localhost:8080/",
          "height": 125
        },
        "outputId": "59b414f8-5001-42b2-e868-151782c66569"
      },
      "execution_count": 42,
      "outputs": [
        {
          "output_type": "execute_result",
          "data": {
            "text/plain": [
              "Pipeline(steps=[('simpleimputer', SimpleImputer()),\n",
              "                ('standardscaler', StandardScaler())])"
            ],
            "text/html": [
              "<style>#sk-bf53ee6d-f38d-4e54-8552-01dc9d10b58c {color: black;background-color: white;}#sk-bf53ee6d-f38d-4e54-8552-01dc9d10b58c pre{padding: 0;}#sk-bf53ee6d-f38d-4e54-8552-01dc9d10b58c div.sk-toggleable {background-color: white;}#sk-bf53ee6d-f38d-4e54-8552-01dc9d10b58c label.sk-toggleable__label {cursor: pointer;display: block;width: 100%;margin-bottom: 0;padding: 0.3em;box-sizing: border-box;text-align: center;}#sk-bf53ee6d-f38d-4e54-8552-01dc9d10b58c label.sk-toggleable__label-arrow:before {content: \"▸\";float: left;margin-right: 0.25em;color: #696969;}#sk-bf53ee6d-f38d-4e54-8552-01dc9d10b58c label.sk-toggleable__label-arrow:hover:before {color: black;}#sk-bf53ee6d-f38d-4e54-8552-01dc9d10b58c div.sk-estimator:hover label.sk-toggleable__label-arrow:before {color: black;}#sk-bf53ee6d-f38d-4e54-8552-01dc9d10b58c div.sk-toggleable__content {max-height: 0;max-width: 0;overflow: hidden;text-align: left;background-color: #f0f8ff;}#sk-bf53ee6d-f38d-4e54-8552-01dc9d10b58c div.sk-toggleable__content pre {margin: 0.2em;color: black;border-radius: 0.25em;background-color: #f0f8ff;}#sk-bf53ee6d-f38d-4e54-8552-01dc9d10b58c input.sk-toggleable__control:checked~div.sk-toggleable__content {max-height: 200px;max-width: 100%;overflow: auto;}#sk-bf53ee6d-f38d-4e54-8552-01dc9d10b58c input.sk-toggleable__control:checked~label.sk-toggleable__label-arrow:before {content: \"▾\";}#sk-bf53ee6d-f38d-4e54-8552-01dc9d10b58c div.sk-estimator input.sk-toggleable__control:checked~label.sk-toggleable__label {background-color: #d4ebff;}#sk-bf53ee6d-f38d-4e54-8552-01dc9d10b58c div.sk-label input.sk-toggleable__control:checked~label.sk-toggleable__label {background-color: #d4ebff;}#sk-bf53ee6d-f38d-4e54-8552-01dc9d10b58c input.sk-hidden--visually {border: 0;clip: rect(1px 1px 1px 1px);clip: rect(1px, 1px, 1px, 1px);height: 1px;margin: -1px;overflow: hidden;padding: 0;position: absolute;width: 1px;}#sk-bf53ee6d-f38d-4e54-8552-01dc9d10b58c div.sk-estimator {font-family: monospace;background-color: #f0f8ff;border: 1px dotted black;border-radius: 0.25em;box-sizing: border-box;margin-bottom: 0.5em;}#sk-bf53ee6d-f38d-4e54-8552-01dc9d10b58c div.sk-estimator:hover {background-color: #d4ebff;}#sk-bf53ee6d-f38d-4e54-8552-01dc9d10b58c div.sk-parallel-item::after {content: \"\";width: 100%;border-bottom: 1px solid gray;flex-grow: 1;}#sk-bf53ee6d-f38d-4e54-8552-01dc9d10b58c div.sk-label:hover label.sk-toggleable__label {background-color: #d4ebff;}#sk-bf53ee6d-f38d-4e54-8552-01dc9d10b58c div.sk-serial::before {content: \"\";position: absolute;border-left: 1px solid gray;box-sizing: border-box;top: 2em;bottom: 0;left: 50%;}#sk-bf53ee6d-f38d-4e54-8552-01dc9d10b58c div.sk-serial {display: flex;flex-direction: column;align-items: center;background-color: white;padding-right: 0.2em;padding-left: 0.2em;}#sk-bf53ee6d-f38d-4e54-8552-01dc9d10b58c div.sk-item {z-index: 1;}#sk-bf53ee6d-f38d-4e54-8552-01dc9d10b58c div.sk-parallel {display: flex;align-items: stretch;justify-content: center;background-color: white;}#sk-bf53ee6d-f38d-4e54-8552-01dc9d10b58c div.sk-parallel::before {content: \"\";position: absolute;border-left: 1px solid gray;box-sizing: border-box;top: 2em;bottom: 0;left: 50%;}#sk-bf53ee6d-f38d-4e54-8552-01dc9d10b58c div.sk-parallel-item {display: flex;flex-direction: column;position: relative;background-color: white;}#sk-bf53ee6d-f38d-4e54-8552-01dc9d10b58c div.sk-parallel-item:first-child::after {align-self: flex-end;width: 50%;}#sk-bf53ee6d-f38d-4e54-8552-01dc9d10b58c div.sk-parallel-item:last-child::after {align-self: flex-start;width: 50%;}#sk-bf53ee6d-f38d-4e54-8552-01dc9d10b58c div.sk-parallel-item:only-child::after {width: 0;}#sk-bf53ee6d-f38d-4e54-8552-01dc9d10b58c div.sk-dashed-wrapped {border: 1px dashed gray;margin: 0 0.4em 0.5em 0.4em;box-sizing: border-box;padding-bottom: 0.4em;background-color: white;position: relative;}#sk-bf53ee6d-f38d-4e54-8552-01dc9d10b58c div.sk-label label {font-family: monospace;font-weight: bold;background-color: white;display: inline-block;line-height: 1.2em;}#sk-bf53ee6d-f38d-4e54-8552-01dc9d10b58c div.sk-label-container {position: relative;z-index: 2;text-align: center;}#sk-bf53ee6d-f38d-4e54-8552-01dc9d10b58c div.sk-container {/* jupyter's `normalize.less` sets `[hidden] { display: none; }` but bootstrap.min.css set `[hidden] { display: none !important; }` so we also need the `!important` here to be able to override the default hidden behavior on the sphinx rendered scikit-learn.org. See: https://github.com/scikit-learn/scikit-learn/issues/21755 */display: inline-block !important;position: relative;}#sk-bf53ee6d-f38d-4e54-8552-01dc9d10b58c div.sk-text-repr-fallback {display: none;}</style><div id=\"sk-bf53ee6d-f38d-4e54-8552-01dc9d10b58c\" class=\"sk-top-container\"><div class=\"sk-text-repr-fallback\"><pre>Pipeline(steps=[(&#x27;simpleimputer&#x27;, SimpleImputer()),\n",
              "                (&#x27;standardscaler&#x27;, StandardScaler())])</pre><b>Please rerun this cell to show the HTML repr or trust the notebook.</b></div><div class=\"sk-container\" hidden><div class=\"sk-item sk-dashed-wrapped\"><div class=\"sk-label-container\"><div class=\"sk-label sk-toggleable\"><input class=\"sk-toggleable__control sk-hidden--visually\" id=\"f34dffaa-7ad6-44af-993a-875573e1998c\" type=\"checkbox\" ><label for=\"f34dffaa-7ad6-44af-993a-875573e1998c\" class=\"sk-toggleable__label sk-toggleable__label-arrow\">Pipeline</label><div class=\"sk-toggleable__content\"><pre>Pipeline(steps=[(&#x27;simpleimputer&#x27;, SimpleImputer()),\n",
              "                (&#x27;standardscaler&#x27;, StandardScaler())])</pre></div></div></div><div class=\"sk-serial\"><div class=\"sk-item\"><div class=\"sk-estimator sk-toggleable\"><input class=\"sk-toggleable__control sk-hidden--visually\" id=\"623e677a-5ee3-4e0b-8140-4da3ab935a23\" type=\"checkbox\" ><label for=\"623e677a-5ee3-4e0b-8140-4da3ab935a23\" class=\"sk-toggleable__label sk-toggleable__label-arrow\">SimpleImputer</label><div class=\"sk-toggleable__content\"><pre>SimpleImputer()</pre></div></div></div><div class=\"sk-item\"><div class=\"sk-estimator sk-toggleable\"><input class=\"sk-toggleable__control sk-hidden--visually\" id=\"a2b119b0-9df2-4008-8d7e-5602553cc33f\" type=\"checkbox\" ><label for=\"a2b119b0-9df2-4008-8d7e-5602553cc33f\" class=\"sk-toggleable__label sk-toggleable__label-arrow\">StandardScaler</label><div class=\"sk-toggleable__content\"><pre>StandardScaler()</pre></div></div></div></div></div></div></div>"
            ]
          },
          "metadata": {},
          "execution_count": 42
        }
      ]
    },
    {
      "cell_type": "code",
      "source": [
        "# Categorical pipeline\n",
        "categorical_pipe = make_pipeline(freq_imputer, ohe)\n",
        "categorical_pipe"
      ],
      "metadata": {
        "id": "8tdZrvVn46gY",
        "colab": {
          "base_uri": "https://localhost:8080/",
          "height": 125
        },
        "outputId": "82b56b24-11f2-4dbf-e009-32f86f4ce416"
      },
      "execution_count": 43,
      "outputs": [
        {
          "output_type": "execute_result",
          "data": {
            "text/plain": [
              "Pipeline(steps=[('simpleimputer', SimpleImputer(strategy='most_frequent')),\n",
              "                ('onehotencoder',\n",
              "                 OneHotEncoder(handle_unknown='ignore', sparse=False))])"
            ],
            "text/html": [
              "<style>#sk-27261c32-2303-45ac-a571-c0711e4efa59 {color: black;background-color: white;}#sk-27261c32-2303-45ac-a571-c0711e4efa59 pre{padding: 0;}#sk-27261c32-2303-45ac-a571-c0711e4efa59 div.sk-toggleable {background-color: white;}#sk-27261c32-2303-45ac-a571-c0711e4efa59 label.sk-toggleable__label {cursor: pointer;display: block;width: 100%;margin-bottom: 0;padding: 0.3em;box-sizing: border-box;text-align: center;}#sk-27261c32-2303-45ac-a571-c0711e4efa59 label.sk-toggleable__label-arrow:before {content: \"▸\";float: left;margin-right: 0.25em;color: #696969;}#sk-27261c32-2303-45ac-a571-c0711e4efa59 label.sk-toggleable__label-arrow:hover:before {color: black;}#sk-27261c32-2303-45ac-a571-c0711e4efa59 div.sk-estimator:hover label.sk-toggleable__label-arrow:before {color: black;}#sk-27261c32-2303-45ac-a571-c0711e4efa59 div.sk-toggleable__content {max-height: 0;max-width: 0;overflow: hidden;text-align: left;background-color: #f0f8ff;}#sk-27261c32-2303-45ac-a571-c0711e4efa59 div.sk-toggleable__content pre {margin: 0.2em;color: black;border-radius: 0.25em;background-color: #f0f8ff;}#sk-27261c32-2303-45ac-a571-c0711e4efa59 input.sk-toggleable__control:checked~div.sk-toggleable__content {max-height: 200px;max-width: 100%;overflow: auto;}#sk-27261c32-2303-45ac-a571-c0711e4efa59 input.sk-toggleable__control:checked~label.sk-toggleable__label-arrow:before {content: \"▾\";}#sk-27261c32-2303-45ac-a571-c0711e4efa59 div.sk-estimator input.sk-toggleable__control:checked~label.sk-toggleable__label {background-color: #d4ebff;}#sk-27261c32-2303-45ac-a571-c0711e4efa59 div.sk-label input.sk-toggleable__control:checked~label.sk-toggleable__label {background-color: #d4ebff;}#sk-27261c32-2303-45ac-a571-c0711e4efa59 input.sk-hidden--visually {border: 0;clip: rect(1px 1px 1px 1px);clip: rect(1px, 1px, 1px, 1px);height: 1px;margin: -1px;overflow: hidden;padding: 0;position: absolute;width: 1px;}#sk-27261c32-2303-45ac-a571-c0711e4efa59 div.sk-estimator {font-family: monospace;background-color: #f0f8ff;border: 1px dotted black;border-radius: 0.25em;box-sizing: border-box;margin-bottom: 0.5em;}#sk-27261c32-2303-45ac-a571-c0711e4efa59 div.sk-estimator:hover {background-color: #d4ebff;}#sk-27261c32-2303-45ac-a571-c0711e4efa59 div.sk-parallel-item::after {content: \"\";width: 100%;border-bottom: 1px solid gray;flex-grow: 1;}#sk-27261c32-2303-45ac-a571-c0711e4efa59 div.sk-label:hover label.sk-toggleable__label {background-color: #d4ebff;}#sk-27261c32-2303-45ac-a571-c0711e4efa59 div.sk-serial::before {content: \"\";position: absolute;border-left: 1px solid gray;box-sizing: border-box;top: 2em;bottom: 0;left: 50%;}#sk-27261c32-2303-45ac-a571-c0711e4efa59 div.sk-serial {display: flex;flex-direction: column;align-items: center;background-color: white;padding-right: 0.2em;padding-left: 0.2em;}#sk-27261c32-2303-45ac-a571-c0711e4efa59 div.sk-item {z-index: 1;}#sk-27261c32-2303-45ac-a571-c0711e4efa59 div.sk-parallel {display: flex;align-items: stretch;justify-content: center;background-color: white;}#sk-27261c32-2303-45ac-a571-c0711e4efa59 div.sk-parallel::before {content: \"\";position: absolute;border-left: 1px solid gray;box-sizing: border-box;top: 2em;bottom: 0;left: 50%;}#sk-27261c32-2303-45ac-a571-c0711e4efa59 div.sk-parallel-item {display: flex;flex-direction: column;position: relative;background-color: white;}#sk-27261c32-2303-45ac-a571-c0711e4efa59 div.sk-parallel-item:first-child::after {align-self: flex-end;width: 50%;}#sk-27261c32-2303-45ac-a571-c0711e4efa59 div.sk-parallel-item:last-child::after {align-self: flex-start;width: 50%;}#sk-27261c32-2303-45ac-a571-c0711e4efa59 div.sk-parallel-item:only-child::after {width: 0;}#sk-27261c32-2303-45ac-a571-c0711e4efa59 div.sk-dashed-wrapped {border: 1px dashed gray;margin: 0 0.4em 0.5em 0.4em;box-sizing: border-box;padding-bottom: 0.4em;background-color: white;position: relative;}#sk-27261c32-2303-45ac-a571-c0711e4efa59 div.sk-label label {font-family: monospace;font-weight: bold;background-color: white;display: inline-block;line-height: 1.2em;}#sk-27261c32-2303-45ac-a571-c0711e4efa59 div.sk-label-container {position: relative;z-index: 2;text-align: center;}#sk-27261c32-2303-45ac-a571-c0711e4efa59 div.sk-container {/* jupyter's `normalize.less` sets `[hidden] { display: none; }` but bootstrap.min.css set `[hidden] { display: none !important; }` so we also need the `!important` here to be able to override the default hidden behavior on the sphinx rendered scikit-learn.org. See: https://github.com/scikit-learn/scikit-learn/issues/21755 */display: inline-block !important;position: relative;}#sk-27261c32-2303-45ac-a571-c0711e4efa59 div.sk-text-repr-fallback {display: none;}</style><div id=\"sk-27261c32-2303-45ac-a571-c0711e4efa59\" class=\"sk-top-container\"><div class=\"sk-text-repr-fallback\"><pre>Pipeline(steps=[(&#x27;simpleimputer&#x27;, SimpleImputer(strategy=&#x27;most_frequent&#x27;)),\n",
              "                (&#x27;onehotencoder&#x27;,\n",
              "                 OneHotEncoder(handle_unknown=&#x27;ignore&#x27;, sparse=False))])</pre><b>Please rerun this cell to show the HTML repr or trust the notebook.</b></div><div class=\"sk-container\" hidden><div class=\"sk-item sk-dashed-wrapped\"><div class=\"sk-label-container\"><div class=\"sk-label sk-toggleable\"><input class=\"sk-toggleable__control sk-hidden--visually\" id=\"57ba32f3-ed70-4e6f-bfd8-0590a6cb0224\" type=\"checkbox\" ><label for=\"57ba32f3-ed70-4e6f-bfd8-0590a6cb0224\" class=\"sk-toggleable__label sk-toggleable__label-arrow\">Pipeline</label><div class=\"sk-toggleable__content\"><pre>Pipeline(steps=[(&#x27;simpleimputer&#x27;, SimpleImputer(strategy=&#x27;most_frequent&#x27;)),\n",
              "                (&#x27;onehotencoder&#x27;,\n",
              "                 OneHotEncoder(handle_unknown=&#x27;ignore&#x27;, sparse=False))])</pre></div></div></div><div class=\"sk-serial\"><div class=\"sk-item\"><div class=\"sk-estimator sk-toggleable\"><input class=\"sk-toggleable__control sk-hidden--visually\" id=\"709c0836-7af4-4a8d-9cbd-f34f5cfb0896\" type=\"checkbox\" ><label for=\"709c0836-7af4-4a8d-9cbd-f34f5cfb0896\" class=\"sk-toggleable__label sk-toggleable__label-arrow\">SimpleImputer</label><div class=\"sk-toggleable__content\"><pre>SimpleImputer(strategy=&#x27;most_frequent&#x27;)</pre></div></div></div><div class=\"sk-item\"><div class=\"sk-estimator sk-toggleable\"><input class=\"sk-toggleable__control sk-hidden--visually\" id=\"4983d445-6350-4258-9a34-87876f8f86e0\" type=\"checkbox\" ><label for=\"4983d445-6350-4258-9a34-87876f8f86e0\" class=\"sk-toggleable__label sk-toggleable__label-arrow\">OneHotEncoder</label><div class=\"sk-toggleable__content\"><pre>OneHotEncoder(handle_unknown=&#x27;ignore&#x27;, sparse=False)</pre></div></div></div></div></div></div></div>"
            ]
          },
          "metadata": {},
          "execution_count": 43
        }
      ]
    },
    {
      "cell_type": "markdown",
      "source": [
        "# Combine Piplines Using Column Transformer"
      ],
      "metadata": {
        "id": "amZ4vkous3tW"
      }
    },
    {
      "cell_type": "code",
      "source": [
        "# Tuples for Column Transformer\n",
        "number_tuple = (numeric_pipe, num_selector)\n",
        "category_tuple = (categorical_pipe, cat_selector)\n",
        "# ColumnTransformer\n",
        "preprocessor = make_column_transformer(number_tuple, category_tuple, remainder='drop')\n",
        "preprocessor"
      ],
      "metadata": {
        "id": "yjBswa9Y4_Y3",
        "colab": {
          "base_uri": "https://localhost:8080/",
          "height": 151
        },
        "outputId": "b369a5e0-2d47-4a31-9771-f3ff8e280d7b"
      },
      "execution_count": 44,
      "outputs": [
        {
          "output_type": "execute_result",
          "data": {
            "text/plain": [
              "ColumnTransformer(transformers=[('pipeline-1',\n",
              "                                 Pipeline(steps=[('simpleimputer',\n",
              "                                                  SimpleImputer()),\n",
              "                                                 ('standardscaler',\n",
              "                                                  StandardScaler())]),\n",
              "                                 <sklearn.compose._column_transformer.make_column_selector object at 0x7f2a2fa1ca00>),\n",
              "                                ('pipeline-2',\n",
              "                                 Pipeline(steps=[('simpleimputer',\n",
              "                                                  SimpleImputer(strategy='most_frequent')),\n",
              "                                                 ('onehotencoder',\n",
              "                                                  OneHotEncoder(handle_unknown='ignore',\n",
              "                                                                sparse=False))]),\n",
              "                                 <sklearn.compose._column_transformer.make_column_selector object at 0x7f2a2fa1c670>)])"
            ],
            "text/html": [
              "<style>#sk-adbea250-ff84-4494-b0b7-9044c664af8f {color: black;background-color: white;}#sk-adbea250-ff84-4494-b0b7-9044c664af8f pre{padding: 0;}#sk-adbea250-ff84-4494-b0b7-9044c664af8f div.sk-toggleable {background-color: white;}#sk-adbea250-ff84-4494-b0b7-9044c664af8f label.sk-toggleable__label {cursor: pointer;display: block;width: 100%;margin-bottom: 0;padding: 0.3em;box-sizing: border-box;text-align: center;}#sk-adbea250-ff84-4494-b0b7-9044c664af8f label.sk-toggleable__label-arrow:before {content: \"▸\";float: left;margin-right: 0.25em;color: #696969;}#sk-adbea250-ff84-4494-b0b7-9044c664af8f label.sk-toggleable__label-arrow:hover:before {color: black;}#sk-adbea250-ff84-4494-b0b7-9044c664af8f div.sk-estimator:hover label.sk-toggleable__label-arrow:before {color: black;}#sk-adbea250-ff84-4494-b0b7-9044c664af8f div.sk-toggleable__content {max-height: 0;max-width: 0;overflow: hidden;text-align: left;background-color: #f0f8ff;}#sk-adbea250-ff84-4494-b0b7-9044c664af8f div.sk-toggleable__content pre {margin: 0.2em;color: black;border-radius: 0.25em;background-color: #f0f8ff;}#sk-adbea250-ff84-4494-b0b7-9044c664af8f input.sk-toggleable__control:checked~div.sk-toggleable__content {max-height: 200px;max-width: 100%;overflow: auto;}#sk-adbea250-ff84-4494-b0b7-9044c664af8f input.sk-toggleable__control:checked~label.sk-toggleable__label-arrow:before {content: \"▾\";}#sk-adbea250-ff84-4494-b0b7-9044c664af8f div.sk-estimator input.sk-toggleable__control:checked~label.sk-toggleable__label {background-color: #d4ebff;}#sk-adbea250-ff84-4494-b0b7-9044c664af8f div.sk-label input.sk-toggleable__control:checked~label.sk-toggleable__label {background-color: #d4ebff;}#sk-adbea250-ff84-4494-b0b7-9044c664af8f input.sk-hidden--visually {border: 0;clip: rect(1px 1px 1px 1px);clip: rect(1px, 1px, 1px, 1px);height: 1px;margin: -1px;overflow: hidden;padding: 0;position: absolute;width: 1px;}#sk-adbea250-ff84-4494-b0b7-9044c664af8f div.sk-estimator {font-family: monospace;background-color: #f0f8ff;border: 1px dotted black;border-radius: 0.25em;box-sizing: border-box;margin-bottom: 0.5em;}#sk-adbea250-ff84-4494-b0b7-9044c664af8f div.sk-estimator:hover {background-color: #d4ebff;}#sk-adbea250-ff84-4494-b0b7-9044c664af8f div.sk-parallel-item::after {content: \"\";width: 100%;border-bottom: 1px solid gray;flex-grow: 1;}#sk-adbea250-ff84-4494-b0b7-9044c664af8f div.sk-label:hover label.sk-toggleable__label {background-color: #d4ebff;}#sk-adbea250-ff84-4494-b0b7-9044c664af8f div.sk-serial::before {content: \"\";position: absolute;border-left: 1px solid gray;box-sizing: border-box;top: 2em;bottom: 0;left: 50%;}#sk-adbea250-ff84-4494-b0b7-9044c664af8f div.sk-serial {display: flex;flex-direction: column;align-items: center;background-color: white;padding-right: 0.2em;padding-left: 0.2em;}#sk-adbea250-ff84-4494-b0b7-9044c664af8f div.sk-item {z-index: 1;}#sk-adbea250-ff84-4494-b0b7-9044c664af8f div.sk-parallel {display: flex;align-items: stretch;justify-content: center;background-color: white;}#sk-adbea250-ff84-4494-b0b7-9044c664af8f div.sk-parallel::before {content: \"\";position: absolute;border-left: 1px solid gray;box-sizing: border-box;top: 2em;bottom: 0;left: 50%;}#sk-adbea250-ff84-4494-b0b7-9044c664af8f div.sk-parallel-item {display: flex;flex-direction: column;position: relative;background-color: white;}#sk-adbea250-ff84-4494-b0b7-9044c664af8f div.sk-parallel-item:first-child::after {align-self: flex-end;width: 50%;}#sk-adbea250-ff84-4494-b0b7-9044c664af8f div.sk-parallel-item:last-child::after {align-self: flex-start;width: 50%;}#sk-adbea250-ff84-4494-b0b7-9044c664af8f div.sk-parallel-item:only-child::after {width: 0;}#sk-adbea250-ff84-4494-b0b7-9044c664af8f div.sk-dashed-wrapped {border: 1px dashed gray;margin: 0 0.4em 0.5em 0.4em;box-sizing: border-box;padding-bottom: 0.4em;background-color: white;position: relative;}#sk-adbea250-ff84-4494-b0b7-9044c664af8f div.sk-label label {font-family: monospace;font-weight: bold;background-color: white;display: inline-block;line-height: 1.2em;}#sk-adbea250-ff84-4494-b0b7-9044c664af8f div.sk-label-container {position: relative;z-index: 2;text-align: center;}#sk-adbea250-ff84-4494-b0b7-9044c664af8f div.sk-container {/* jupyter's `normalize.less` sets `[hidden] { display: none; }` but bootstrap.min.css set `[hidden] { display: none !important; }` so we also need the `!important` here to be able to override the default hidden behavior on the sphinx rendered scikit-learn.org. See: https://github.com/scikit-learn/scikit-learn/issues/21755 */display: inline-block !important;position: relative;}#sk-adbea250-ff84-4494-b0b7-9044c664af8f div.sk-text-repr-fallback {display: none;}</style><div id=\"sk-adbea250-ff84-4494-b0b7-9044c664af8f\" class=\"sk-top-container\"><div class=\"sk-text-repr-fallback\"><pre>ColumnTransformer(transformers=[(&#x27;pipeline-1&#x27;,\n",
              "                                 Pipeline(steps=[(&#x27;simpleimputer&#x27;,\n",
              "                                                  SimpleImputer()),\n",
              "                                                 (&#x27;standardscaler&#x27;,\n",
              "                                                  StandardScaler())]),\n",
              "                                 &lt;sklearn.compose._column_transformer.make_column_selector object at 0x7f2a2fa1ca00&gt;),\n",
              "                                (&#x27;pipeline-2&#x27;,\n",
              "                                 Pipeline(steps=[(&#x27;simpleimputer&#x27;,\n",
              "                                                  SimpleImputer(strategy=&#x27;most_frequent&#x27;)),\n",
              "                                                 (&#x27;onehotencoder&#x27;,\n",
              "                                                  OneHotEncoder(handle_unknown=&#x27;ignore&#x27;,\n",
              "                                                                sparse=False))]),\n",
              "                                 &lt;sklearn.compose._column_transformer.make_column_selector object at 0x7f2a2fa1c670&gt;)])</pre><b>Please rerun this cell to show the HTML repr or trust the notebook.</b></div><div class=\"sk-container\" hidden><div class=\"sk-item sk-dashed-wrapped\"><div class=\"sk-label-container\"><div class=\"sk-label sk-toggleable\"><input class=\"sk-toggleable__control sk-hidden--visually\" id=\"bfe36d8b-50fc-403c-bef4-d1a00a1dd00c\" type=\"checkbox\" ><label for=\"bfe36d8b-50fc-403c-bef4-d1a00a1dd00c\" class=\"sk-toggleable__label sk-toggleable__label-arrow\">ColumnTransformer</label><div class=\"sk-toggleable__content\"><pre>ColumnTransformer(transformers=[(&#x27;pipeline-1&#x27;,\n",
              "                                 Pipeline(steps=[(&#x27;simpleimputer&#x27;,\n",
              "                                                  SimpleImputer()),\n",
              "                                                 (&#x27;standardscaler&#x27;,\n",
              "                                                  StandardScaler())]),\n",
              "                                 &lt;sklearn.compose._column_transformer.make_column_selector object at 0x7f2a2fa1ca00&gt;),\n",
              "                                (&#x27;pipeline-2&#x27;,\n",
              "                                 Pipeline(steps=[(&#x27;simpleimputer&#x27;,\n",
              "                                                  SimpleImputer(strategy=&#x27;most_frequent&#x27;)),\n",
              "                                                 (&#x27;onehotencoder&#x27;,\n",
              "                                                  OneHotEncoder(handle_unknown=&#x27;ignore&#x27;,\n",
              "                                                                sparse=False))]),\n",
              "                                 &lt;sklearn.compose._column_transformer.make_column_selector object at 0x7f2a2fa1c670&gt;)])</pre></div></div></div><div class=\"sk-parallel\"><div class=\"sk-parallel-item\"><div class=\"sk-item\"><div class=\"sk-label-container\"><div class=\"sk-label sk-toggleable\"><input class=\"sk-toggleable__control sk-hidden--visually\" id=\"5bd24898-d561-40b2-8744-fac1dab40a93\" type=\"checkbox\" ><label for=\"5bd24898-d561-40b2-8744-fac1dab40a93\" class=\"sk-toggleable__label sk-toggleable__label-arrow\">pipeline-1</label><div class=\"sk-toggleable__content\"><pre>&lt;sklearn.compose._column_transformer.make_column_selector object at 0x7f2a2fa1ca00&gt;</pre></div></div></div><div class=\"sk-serial\"><div class=\"sk-item\"><div class=\"sk-serial\"><div class=\"sk-item\"><div class=\"sk-estimator sk-toggleable\"><input class=\"sk-toggleable__control sk-hidden--visually\" id=\"4641700b-874f-4df1-9ce5-1b9f1c2dd51c\" type=\"checkbox\" ><label for=\"4641700b-874f-4df1-9ce5-1b9f1c2dd51c\" class=\"sk-toggleable__label sk-toggleable__label-arrow\">SimpleImputer</label><div class=\"sk-toggleable__content\"><pre>SimpleImputer()</pre></div></div></div><div class=\"sk-item\"><div class=\"sk-estimator sk-toggleable\"><input class=\"sk-toggleable__control sk-hidden--visually\" id=\"c68e72f2-5201-4cf8-afce-9d822c4306d0\" type=\"checkbox\" ><label for=\"c68e72f2-5201-4cf8-afce-9d822c4306d0\" class=\"sk-toggleable__label sk-toggleable__label-arrow\">StandardScaler</label><div class=\"sk-toggleable__content\"><pre>StandardScaler()</pre></div></div></div></div></div></div></div></div><div class=\"sk-parallel-item\"><div class=\"sk-item\"><div class=\"sk-label-container\"><div class=\"sk-label sk-toggleable\"><input class=\"sk-toggleable__control sk-hidden--visually\" id=\"9eddb8de-4c0e-440a-bd6f-4390e215682b\" type=\"checkbox\" ><label for=\"9eddb8de-4c0e-440a-bd6f-4390e215682b\" class=\"sk-toggleable__label sk-toggleable__label-arrow\">pipeline-2</label><div class=\"sk-toggleable__content\"><pre>&lt;sklearn.compose._column_transformer.make_column_selector object at 0x7f2a2fa1c670&gt;</pre></div></div></div><div class=\"sk-serial\"><div class=\"sk-item\"><div class=\"sk-serial\"><div class=\"sk-item\"><div class=\"sk-estimator sk-toggleable\"><input class=\"sk-toggleable__control sk-hidden--visually\" id=\"b5dcea76-2478-4b43-8a04-9944d44cb2c0\" type=\"checkbox\" ><label for=\"b5dcea76-2478-4b43-8a04-9944d44cb2c0\" class=\"sk-toggleable__label sk-toggleable__label-arrow\">SimpleImputer</label><div class=\"sk-toggleable__content\"><pre>SimpleImputer(strategy=&#x27;most_frequent&#x27;)</pre></div></div></div><div class=\"sk-item\"><div class=\"sk-estimator sk-toggleable\"><input class=\"sk-toggleable__control sk-hidden--visually\" id=\"7ca911ee-6e10-46e8-8b8f-0c9e95b7a0ec\" type=\"checkbox\" ><label for=\"7ca911ee-6e10-46e8-8b8f-0c9e95b7a0ec\" class=\"sk-toggleable__label sk-toggleable__label-arrow\">OneHotEncoder</label><div class=\"sk-toggleable__content\"><pre>OneHotEncoder(handle_unknown=&#x27;ignore&#x27;, sparse=False)</pre></div></div></div></div></div></div></div></div></div></div></div></div>"
            ]
          },
          "metadata": {},
          "execution_count": 44
        }
      ]
    },
    {
      "cell_type": "markdown",
      "source": [
        "# Create linear regression model\n",
        "1.   Create a pipeline and fit on the training data\n",
        "2.  Evaluate acccoring to R^2 metrics\n",
        "3. Evaluate  through RMSE"
      ],
      "metadata": {
        "id": "WkAAETtgu4Dg"
      }
    },
    {
      "cell_type": "markdown",
      "source": [
        "## Create a pipeline using linear regression"
      ],
      "metadata": {
        "id": "5z-whHQru9LL"
      }
    },
    {
      "cell_type": "code",
      "source": [
        "# set up the linear regression model\n",
        "linreg = LinearRegression()"
      ],
      "metadata": {
        "id": "367F0iwEwXen"
      },
      "execution_count": 45,
      "outputs": []
    },
    {
      "cell_type": "code",
      "source": [
        "# Combine the preprocessing ColumnTransformer and the linear regression model in a Pipeline\n",
        "linreg_pipe = make_pipeline(preprocessor, linreg)\n",
        "linreg_pipe"
      ],
      "metadata": {
        "id": "yTVRl_vdvsGX",
        "colab": {
          "base_uri": "https://localhost:8080/",
          "height": 225
        },
        "outputId": "e3870d08-4511-496e-ee00-80549d0624c9"
      },
      "execution_count": 46,
      "outputs": [
        {
          "output_type": "execute_result",
          "data": {
            "text/plain": [
              "Pipeline(steps=[('columntransformer',\n",
              "                 ColumnTransformer(transformers=[('pipeline-1',\n",
              "                                                  Pipeline(steps=[('simpleimputer',\n",
              "                                                                   SimpleImputer()),\n",
              "                                                                  ('standardscaler',\n",
              "                                                                   StandardScaler())]),\n",
              "                                                  <sklearn.compose._column_transformer.make_column_selector object at 0x7f2a2fa1ca00>),\n",
              "                                                 ('pipeline-2',\n",
              "                                                  Pipeline(steps=[('simpleimputer',\n",
              "                                                                   SimpleImputer(strategy='most_frequent')),\n",
              "                                                                  ('onehotencoder',\n",
              "                                                                   OneHotEncoder(handle_unknown='ignore',\n",
              "                                                                                 sparse=False))]),\n",
              "                                                  <sklearn.compose._column_transformer.make_column_selector object at 0x7f2a2fa1c670>)])),\n",
              "                ('linearregression', LinearRegression())])"
            ],
            "text/html": [
              "<style>#sk-409ebcbd-1136-4f69-9eaa-874cec49d353 {color: black;background-color: white;}#sk-409ebcbd-1136-4f69-9eaa-874cec49d353 pre{padding: 0;}#sk-409ebcbd-1136-4f69-9eaa-874cec49d353 div.sk-toggleable {background-color: white;}#sk-409ebcbd-1136-4f69-9eaa-874cec49d353 label.sk-toggleable__label {cursor: pointer;display: block;width: 100%;margin-bottom: 0;padding: 0.3em;box-sizing: border-box;text-align: center;}#sk-409ebcbd-1136-4f69-9eaa-874cec49d353 label.sk-toggleable__label-arrow:before {content: \"▸\";float: left;margin-right: 0.25em;color: #696969;}#sk-409ebcbd-1136-4f69-9eaa-874cec49d353 label.sk-toggleable__label-arrow:hover:before {color: black;}#sk-409ebcbd-1136-4f69-9eaa-874cec49d353 div.sk-estimator:hover label.sk-toggleable__label-arrow:before {color: black;}#sk-409ebcbd-1136-4f69-9eaa-874cec49d353 div.sk-toggleable__content {max-height: 0;max-width: 0;overflow: hidden;text-align: left;background-color: #f0f8ff;}#sk-409ebcbd-1136-4f69-9eaa-874cec49d353 div.sk-toggleable__content pre {margin: 0.2em;color: black;border-radius: 0.25em;background-color: #f0f8ff;}#sk-409ebcbd-1136-4f69-9eaa-874cec49d353 input.sk-toggleable__control:checked~div.sk-toggleable__content {max-height: 200px;max-width: 100%;overflow: auto;}#sk-409ebcbd-1136-4f69-9eaa-874cec49d353 input.sk-toggleable__control:checked~label.sk-toggleable__label-arrow:before {content: \"▾\";}#sk-409ebcbd-1136-4f69-9eaa-874cec49d353 div.sk-estimator input.sk-toggleable__control:checked~label.sk-toggleable__label {background-color: #d4ebff;}#sk-409ebcbd-1136-4f69-9eaa-874cec49d353 div.sk-label input.sk-toggleable__control:checked~label.sk-toggleable__label {background-color: #d4ebff;}#sk-409ebcbd-1136-4f69-9eaa-874cec49d353 input.sk-hidden--visually {border: 0;clip: rect(1px 1px 1px 1px);clip: rect(1px, 1px, 1px, 1px);height: 1px;margin: -1px;overflow: hidden;padding: 0;position: absolute;width: 1px;}#sk-409ebcbd-1136-4f69-9eaa-874cec49d353 div.sk-estimator {font-family: monospace;background-color: #f0f8ff;border: 1px dotted black;border-radius: 0.25em;box-sizing: border-box;margin-bottom: 0.5em;}#sk-409ebcbd-1136-4f69-9eaa-874cec49d353 div.sk-estimator:hover {background-color: #d4ebff;}#sk-409ebcbd-1136-4f69-9eaa-874cec49d353 div.sk-parallel-item::after {content: \"\";width: 100%;border-bottom: 1px solid gray;flex-grow: 1;}#sk-409ebcbd-1136-4f69-9eaa-874cec49d353 div.sk-label:hover label.sk-toggleable__label {background-color: #d4ebff;}#sk-409ebcbd-1136-4f69-9eaa-874cec49d353 div.sk-serial::before {content: \"\";position: absolute;border-left: 1px solid gray;box-sizing: border-box;top: 2em;bottom: 0;left: 50%;}#sk-409ebcbd-1136-4f69-9eaa-874cec49d353 div.sk-serial {display: flex;flex-direction: column;align-items: center;background-color: white;padding-right: 0.2em;padding-left: 0.2em;}#sk-409ebcbd-1136-4f69-9eaa-874cec49d353 div.sk-item {z-index: 1;}#sk-409ebcbd-1136-4f69-9eaa-874cec49d353 div.sk-parallel {display: flex;align-items: stretch;justify-content: center;background-color: white;}#sk-409ebcbd-1136-4f69-9eaa-874cec49d353 div.sk-parallel::before {content: \"\";position: absolute;border-left: 1px solid gray;box-sizing: border-box;top: 2em;bottom: 0;left: 50%;}#sk-409ebcbd-1136-4f69-9eaa-874cec49d353 div.sk-parallel-item {display: flex;flex-direction: column;position: relative;background-color: white;}#sk-409ebcbd-1136-4f69-9eaa-874cec49d353 div.sk-parallel-item:first-child::after {align-self: flex-end;width: 50%;}#sk-409ebcbd-1136-4f69-9eaa-874cec49d353 div.sk-parallel-item:last-child::after {align-self: flex-start;width: 50%;}#sk-409ebcbd-1136-4f69-9eaa-874cec49d353 div.sk-parallel-item:only-child::after {width: 0;}#sk-409ebcbd-1136-4f69-9eaa-874cec49d353 div.sk-dashed-wrapped {border: 1px dashed gray;margin: 0 0.4em 0.5em 0.4em;box-sizing: border-box;padding-bottom: 0.4em;background-color: white;position: relative;}#sk-409ebcbd-1136-4f69-9eaa-874cec49d353 div.sk-label label {font-family: monospace;font-weight: bold;background-color: white;display: inline-block;line-height: 1.2em;}#sk-409ebcbd-1136-4f69-9eaa-874cec49d353 div.sk-label-container {position: relative;z-index: 2;text-align: center;}#sk-409ebcbd-1136-4f69-9eaa-874cec49d353 div.sk-container {/* jupyter's `normalize.less` sets `[hidden] { display: none; }` but bootstrap.min.css set `[hidden] { display: none !important; }` so we also need the `!important` here to be able to override the default hidden behavior on the sphinx rendered scikit-learn.org. See: https://github.com/scikit-learn/scikit-learn/issues/21755 */display: inline-block !important;position: relative;}#sk-409ebcbd-1136-4f69-9eaa-874cec49d353 div.sk-text-repr-fallback {display: none;}</style><div id=\"sk-409ebcbd-1136-4f69-9eaa-874cec49d353\" class=\"sk-top-container\"><div class=\"sk-text-repr-fallback\"><pre>Pipeline(steps=[(&#x27;columntransformer&#x27;,\n",
              "                 ColumnTransformer(transformers=[(&#x27;pipeline-1&#x27;,\n",
              "                                                  Pipeline(steps=[(&#x27;simpleimputer&#x27;,\n",
              "                                                                   SimpleImputer()),\n",
              "                                                                  (&#x27;standardscaler&#x27;,\n",
              "                                                                   StandardScaler())]),\n",
              "                                                  &lt;sklearn.compose._column_transformer.make_column_selector object at 0x7f2a2fa1ca00&gt;),\n",
              "                                                 (&#x27;pipeline-2&#x27;,\n",
              "                                                  Pipeline(steps=[(&#x27;simpleimputer&#x27;,\n",
              "                                                                   SimpleImputer(strategy=&#x27;most_frequent&#x27;)),\n",
              "                                                                  (&#x27;onehotencoder&#x27;,\n",
              "                                                                   OneHotEncoder(handle_unknown=&#x27;ignore&#x27;,\n",
              "                                                                                 sparse=False))]),\n",
              "                                                  &lt;sklearn.compose._column_transformer.make_column_selector object at 0x7f2a2fa1c670&gt;)])),\n",
              "                (&#x27;linearregression&#x27;, LinearRegression())])</pre><b>Please rerun this cell to show the HTML repr or trust the notebook.</b></div><div class=\"sk-container\" hidden><div class=\"sk-item sk-dashed-wrapped\"><div class=\"sk-label-container\"><div class=\"sk-label sk-toggleable\"><input class=\"sk-toggleable__control sk-hidden--visually\" id=\"5b344641-be06-4b9d-a8e3-82378514e5ad\" type=\"checkbox\" ><label for=\"5b344641-be06-4b9d-a8e3-82378514e5ad\" class=\"sk-toggleable__label sk-toggleable__label-arrow\">Pipeline</label><div class=\"sk-toggleable__content\"><pre>Pipeline(steps=[(&#x27;columntransformer&#x27;,\n",
              "                 ColumnTransformer(transformers=[(&#x27;pipeline-1&#x27;,\n",
              "                                                  Pipeline(steps=[(&#x27;simpleimputer&#x27;,\n",
              "                                                                   SimpleImputer()),\n",
              "                                                                  (&#x27;standardscaler&#x27;,\n",
              "                                                                   StandardScaler())]),\n",
              "                                                  &lt;sklearn.compose._column_transformer.make_column_selector object at 0x7f2a2fa1ca00&gt;),\n",
              "                                                 (&#x27;pipeline-2&#x27;,\n",
              "                                                  Pipeline(steps=[(&#x27;simpleimputer&#x27;,\n",
              "                                                                   SimpleImputer(strategy=&#x27;most_frequent&#x27;)),\n",
              "                                                                  (&#x27;onehotencoder&#x27;,\n",
              "                                                                   OneHotEncoder(handle_unknown=&#x27;ignore&#x27;,\n",
              "                                                                                 sparse=False))]),\n",
              "                                                  &lt;sklearn.compose._column_transformer.make_column_selector object at 0x7f2a2fa1c670&gt;)])),\n",
              "                (&#x27;linearregression&#x27;, LinearRegression())])</pre></div></div></div><div class=\"sk-serial\"><div class=\"sk-item sk-dashed-wrapped\"><div class=\"sk-label-container\"><div class=\"sk-label sk-toggleable\"><input class=\"sk-toggleable__control sk-hidden--visually\" id=\"1eb066a3-5f92-4ef3-b7b7-ce3b84f226e7\" type=\"checkbox\" ><label for=\"1eb066a3-5f92-4ef3-b7b7-ce3b84f226e7\" class=\"sk-toggleable__label sk-toggleable__label-arrow\">columntransformer: ColumnTransformer</label><div class=\"sk-toggleable__content\"><pre>ColumnTransformer(transformers=[(&#x27;pipeline-1&#x27;,\n",
              "                                 Pipeline(steps=[(&#x27;simpleimputer&#x27;,\n",
              "                                                  SimpleImputer()),\n",
              "                                                 (&#x27;standardscaler&#x27;,\n",
              "                                                  StandardScaler())]),\n",
              "                                 &lt;sklearn.compose._column_transformer.make_column_selector object at 0x7f2a2fa1ca00&gt;),\n",
              "                                (&#x27;pipeline-2&#x27;,\n",
              "                                 Pipeline(steps=[(&#x27;simpleimputer&#x27;,\n",
              "                                                  SimpleImputer(strategy=&#x27;most_frequent&#x27;)),\n",
              "                                                 (&#x27;onehotencoder&#x27;,\n",
              "                                                  OneHotEncoder(handle_unknown=&#x27;ignore&#x27;,\n",
              "                                                                sparse=False))]),\n",
              "                                 &lt;sklearn.compose._column_transformer.make_column_selector object at 0x7f2a2fa1c670&gt;)])</pre></div></div></div><div class=\"sk-parallel\"><div class=\"sk-parallel-item\"><div class=\"sk-item\"><div class=\"sk-label-container\"><div class=\"sk-label sk-toggleable\"><input class=\"sk-toggleable__control sk-hidden--visually\" id=\"b880561c-2510-4b4a-a5f7-e6d0cd80ec53\" type=\"checkbox\" ><label for=\"b880561c-2510-4b4a-a5f7-e6d0cd80ec53\" class=\"sk-toggleable__label sk-toggleable__label-arrow\">pipeline-1</label><div class=\"sk-toggleable__content\"><pre>&lt;sklearn.compose._column_transformer.make_column_selector object at 0x7f2a2fa1ca00&gt;</pre></div></div></div><div class=\"sk-serial\"><div class=\"sk-item\"><div class=\"sk-serial\"><div class=\"sk-item\"><div class=\"sk-estimator sk-toggleable\"><input class=\"sk-toggleable__control sk-hidden--visually\" id=\"50bb15ec-0a96-42b7-8948-be39388798e0\" type=\"checkbox\" ><label for=\"50bb15ec-0a96-42b7-8948-be39388798e0\" class=\"sk-toggleable__label sk-toggleable__label-arrow\">SimpleImputer</label><div class=\"sk-toggleable__content\"><pre>SimpleImputer()</pre></div></div></div><div class=\"sk-item\"><div class=\"sk-estimator sk-toggleable\"><input class=\"sk-toggleable__control sk-hidden--visually\" id=\"7665d908-bfea-43ce-896d-bb6932c2cdb1\" type=\"checkbox\" ><label for=\"7665d908-bfea-43ce-896d-bb6932c2cdb1\" class=\"sk-toggleable__label sk-toggleable__label-arrow\">StandardScaler</label><div class=\"sk-toggleable__content\"><pre>StandardScaler()</pre></div></div></div></div></div></div></div></div><div class=\"sk-parallel-item\"><div class=\"sk-item\"><div class=\"sk-label-container\"><div class=\"sk-label sk-toggleable\"><input class=\"sk-toggleable__control sk-hidden--visually\" id=\"06e51dfb-120a-48e6-a37a-5e64eae11d03\" type=\"checkbox\" ><label for=\"06e51dfb-120a-48e6-a37a-5e64eae11d03\" class=\"sk-toggleable__label sk-toggleable__label-arrow\">pipeline-2</label><div class=\"sk-toggleable__content\"><pre>&lt;sklearn.compose._column_transformer.make_column_selector object at 0x7f2a2fa1c670&gt;</pre></div></div></div><div class=\"sk-serial\"><div class=\"sk-item\"><div class=\"sk-serial\"><div class=\"sk-item\"><div class=\"sk-estimator sk-toggleable\"><input class=\"sk-toggleable__control sk-hidden--visually\" id=\"5c35d845-7dab-4c5d-8198-601a1062ed9a\" type=\"checkbox\" ><label for=\"5c35d845-7dab-4c5d-8198-601a1062ed9a\" class=\"sk-toggleable__label sk-toggleable__label-arrow\">SimpleImputer</label><div class=\"sk-toggleable__content\"><pre>SimpleImputer(strategy=&#x27;most_frequent&#x27;)</pre></div></div></div><div class=\"sk-item\"><div class=\"sk-estimator sk-toggleable\"><input class=\"sk-toggleable__control sk-hidden--visually\" id=\"351eb305-a4ff-4546-bf9f-5e1f923b1f4e\" type=\"checkbox\" ><label for=\"351eb305-a4ff-4546-bf9f-5e1f923b1f4e\" class=\"sk-toggleable__label sk-toggleable__label-arrow\">OneHotEncoder</label><div class=\"sk-toggleable__content\"><pre>OneHotEncoder(handle_unknown=&#x27;ignore&#x27;, sparse=False)</pre></div></div></div></div></div></div></div></div></div></div><div class=\"sk-item\"><div class=\"sk-estimator sk-toggleable\"><input class=\"sk-toggleable__control sk-hidden--visually\" id=\"3c96e1cd-bbd0-4b3c-8c85-7ce3623b854c\" type=\"checkbox\" ><label for=\"3c96e1cd-bbd0-4b3c-8c85-7ce3623b854c\" class=\"sk-toggleable__label sk-toggleable__label-arrow\">LinearRegression</label><div class=\"sk-toggleable__content\"><pre>LinearRegression()</pre></div></div></div></div></div></div></div>"
            ]
          },
          "metadata": {},
          "execution_count": 46
        }
      ]
    },
    {
      "cell_type": "code",
      "source": [
        "# Fit the model pipeline on the training data\n",
        "linreg_pipe.fit(X_train, y_train)\n",
        "# Make predictions using the training and testing data\n",
        "training_predictions = linreg_pipe.predict(X_train)\n",
        "test_predictions = linreg_pipe.predict(X_test)\n",
        "training_predictions[:10]"
      ],
      "metadata": {
        "id": "v60Udohcv1Cn",
        "colab": {
          "base_uri": "https://localhost:8080/"
        },
        "outputId": "96a2f251-b9c9-4497-d1a1-7bba8f3e8624"
      },
      "execution_count": 47,
      "outputs": [
        {
          "output_type": "execute_result",
          "data": {
            "text/plain": [
              "array([2984., 3796., 2180., 1292., 2236., -124., 1596., 4348., 3700.,\n",
              "       1628.])"
            ]
          },
          "metadata": {},
          "execution_count": 47
        }
      ]
    },
    {
      "cell_type": "markdown",
      "source": [
        "##  Evaluate acccoring to R^2 metrics"
      ],
      "metadata": {
        "id": "rhywHs6uxOH8"
      }
    },
    {
      "cell_type": "code",
      "source": [
        "#calculating R-squared\n",
        "train_r2 = np.corrcoef(y_train, training_predictions)[0][1]**2\n",
        "test_r2 = np.corrcoef(y_test, test_predictions)[0][1]**2\n",
        "\n",
        "print(f'Model Training R2: {train_r2}')\n",
        "print(f'Model Testing R2: {test_r2}')"
      ],
      "metadata": {
        "colab": {
          "base_uri": "https://localhost:8080/"
        },
        "id": "Wo1ws2_qxb1V",
        "outputId": "de293476-21e1-4475-a14a-e5b44c19cf26"
      },
      "execution_count": 48,
      "outputs": [
        {
          "output_type": "stream",
          "name": "stdout",
          "text": [
            "Model Training R2: 0.6714424977432687\n",
            "Model Testing R2: 2.0994337117833997e-05\n"
          ]
        }
      ]
    },
    {
      "cell_type": "markdown",
      "source": [
        "- This model can account for about 67% of the variation in the y_test \n",
        "using the features in the X_test."
      ],
      "metadata": {
        "id": "-czbZmxVxpwf"
      }
    },
    {
      "cell_type": "markdown",
      "source": [
        "## Evaluate using RMSE"
      ],
      "metadata": {
        "id": "nhGKdlexyT28"
      }
    },
    {
      "cell_type": "code",
      "source": [
        "# Calculating RMSE\n",
        "RMSE_train = np.sqrt(np.mean(np.abs(training_predictions - y_train)**2))\n",
        "RMSE_test = np.sqrt(np.mean(np.abs(test_predictions - y_test)**2))\n",
        "\n",
        "print(f'Training RMSE:{RMSE_train}')\n",
        "print(f'Test RMSE:{RMSE_test}')"
      ],
      "metadata": {
        "id": "6LZbtBZjyXtv",
        "colab": {
          "base_uri": "https://localhost:8080/"
        },
        "outputId": "c5588244-a75f-437c-b3a3-74442d9e93df"
      },
      "execution_count": 49,
      "outputs": [
        {
          "output_type": "stream",
          "name": "stdout",
          "text": [
            "Training RMSE:986.0858114271118\n",
            "Test RMSE:6762579228318.999\n"
          ]
        }
      ]
    },
    {
      "cell_type": "markdown",
      "source": [
        "# Create a regression tree model\n",
        "1. Create a regression tree pipeline\n",
        "2. Evaluate according to R^2 and  RMSE"
      ],
      "metadata": {
        "id": "PNs-UJRY6eUb"
      }
    },
    {
      "cell_type": "code",
      "source": [
        "# set up the  regression tree model\n",
        "dec_tree = DecisionTreeRegressor(random_state=42)\n",
        "#make the pipeline\n",
        "dec_tree_pipeline = make_pipeline(preprocessor, dec_tree)\n",
        "#fit the pipeline\n",
        "dec_tree_pipeline.fit(X_train, y_train)\n",
        "\n"
      ],
      "metadata": {
        "id": "rycCjuAr6iai",
        "colab": {
          "base_uri": "https://localhost:8080/",
          "height": 225
        },
        "outputId": "abdef09a-b0ec-4894-ed5d-8d8df4ab968a"
      },
      "execution_count": 50,
      "outputs": [
        {
          "output_type": "execute_result",
          "data": {
            "text/plain": [
              "Pipeline(steps=[('columntransformer',\n",
              "                 ColumnTransformer(transformers=[('pipeline-1',\n",
              "                                                  Pipeline(steps=[('simpleimputer',\n",
              "                                                                   SimpleImputer()),\n",
              "                                                                  ('standardscaler',\n",
              "                                                                   StandardScaler())]),\n",
              "                                                  <sklearn.compose._column_transformer.make_column_selector object at 0x7f2a2fa1ca00>),\n",
              "                                                 ('pipeline-2',\n",
              "                                                  Pipeline(steps=[('simpleimputer',\n",
              "                                                                   SimpleImputer(strategy='most_frequent')),\n",
              "                                                                  ('onehotencoder',\n",
              "                                                                   OneHotEncoder(handle_unknown='ignore',\n",
              "                                                                                 sparse=False))]),\n",
              "                                                  <sklearn.compose._column_transformer.make_column_selector object at 0x7f2a2fa1c670>)])),\n",
              "                ('decisiontreeregressor',\n",
              "                 DecisionTreeRegressor(random_state=42))])"
            ],
            "text/html": [
              "<style>#sk-5fec1ae6-e0ec-4401-8148-1f329389a788 {color: black;background-color: white;}#sk-5fec1ae6-e0ec-4401-8148-1f329389a788 pre{padding: 0;}#sk-5fec1ae6-e0ec-4401-8148-1f329389a788 div.sk-toggleable {background-color: white;}#sk-5fec1ae6-e0ec-4401-8148-1f329389a788 label.sk-toggleable__label {cursor: pointer;display: block;width: 100%;margin-bottom: 0;padding: 0.3em;box-sizing: border-box;text-align: center;}#sk-5fec1ae6-e0ec-4401-8148-1f329389a788 label.sk-toggleable__label-arrow:before {content: \"▸\";float: left;margin-right: 0.25em;color: #696969;}#sk-5fec1ae6-e0ec-4401-8148-1f329389a788 label.sk-toggleable__label-arrow:hover:before {color: black;}#sk-5fec1ae6-e0ec-4401-8148-1f329389a788 div.sk-estimator:hover label.sk-toggleable__label-arrow:before {color: black;}#sk-5fec1ae6-e0ec-4401-8148-1f329389a788 div.sk-toggleable__content {max-height: 0;max-width: 0;overflow: hidden;text-align: left;background-color: #f0f8ff;}#sk-5fec1ae6-e0ec-4401-8148-1f329389a788 div.sk-toggleable__content pre {margin: 0.2em;color: black;border-radius: 0.25em;background-color: #f0f8ff;}#sk-5fec1ae6-e0ec-4401-8148-1f329389a788 input.sk-toggleable__control:checked~div.sk-toggleable__content {max-height: 200px;max-width: 100%;overflow: auto;}#sk-5fec1ae6-e0ec-4401-8148-1f329389a788 input.sk-toggleable__control:checked~label.sk-toggleable__label-arrow:before {content: \"▾\";}#sk-5fec1ae6-e0ec-4401-8148-1f329389a788 div.sk-estimator input.sk-toggleable__control:checked~label.sk-toggleable__label {background-color: #d4ebff;}#sk-5fec1ae6-e0ec-4401-8148-1f329389a788 div.sk-label input.sk-toggleable__control:checked~label.sk-toggleable__label {background-color: #d4ebff;}#sk-5fec1ae6-e0ec-4401-8148-1f329389a788 input.sk-hidden--visually {border: 0;clip: rect(1px 1px 1px 1px);clip: rect(1px, 1px, 1px, 1px);height: 1px;margin: -1px;overflow: hidden;padding: 0;position: absolute;width: 1px;}#sk-5fec1ae6-e0ec-4401-8148-1f329389a788 div.sk-estimator {font-family: monospace;background-color: #f0f8ff;border: 1px dotted black;border-radius: 0.25em;box-sizing: border-box;margin-bottom: 0.5em;}#sk-5fec1ae6-e0ec-4401-8148-1f329389a788 div.sk-estimator:hover {background-color: #d4ebff;}#sk-5fec1ae6-e0ec-4401-8148-1f329389a788 div.sk-parallel-item::after {content: \"\";width: 100%;border-bottom: 1px solid gray;flex-grow: 1;}#sk-5fec1ae6-e0ec-4401-8148-1f329389a788 div.sk-label:hover label.sk-toggleable__label {background-color: #d4ebff;}#sk-5fec1ae6-e0ec-4401-8148-1f329389a788 div.sk-serial::before {content: \"\";position: absolute;border-left: 1px solid gray;box-sizing: border-box;top: 2em;bottom: 0;left: 50%;}#sk-5fec1ae6-e0ec-4401-8148-1f329389a788 div.sk-serial {display: flex;flex-direction: column;align-items: center;background-color: white;padding-right: 0.2em;padding-left: 0.2em;}#sk-5fec1ae6-e0ec-4401-8148-1f329389a788 div.sk-item {z-index: 1;}#sk-5fec1ae6-e0ec-4401-8148-1f329389a788 div.sk-parallel {display: flex;align-items: stretch;justify-content: center;background-color: white;}#sk-5fec1ae6-e0ec-4401-8148-1f329389a788 div.sk-parallel::before {content: \"\";position: absolute;border-left: 1px solid gray;box-sizing: border-box;top: 2em;bottom: 0;left: 50%;}#sk-5fec1ae6-e0ec-4401-8148-1f329389a788 div.sk-parallel-item {display: flex;flex-direction: column;position: relative;background-color: white;}#sk-5fec1ae6-e0ec-4401-8148-1f329389a788 div.sk-parallel-item:first-child::after {align-self: flex-end;width: 50%;}#sk-5fec1ae6-e0ec-4401-8148-1f329389a788 div.sk-parallel-item:last-child::after {align-self: flex-start;width: 50%;}#sk-5fec1ae6-e0ec-4401-8148-1f329389a788 div.sk-parallel-item:only-child::after {width: 0;}#sk-5fec1ae6-e0ec-4401-8148-1f329389a788 div.sk-dashed-wrapped {border: 1px dashed gray;margin: 0 0.4em 0.5em 0.4em;box-sizing: border-box;padding-bottom: 0.4em;background-color: white;position: relative;}#sk-5fec1ae6-e0ec-4401-8148-1f329389a788 div.sk-label label {font-family: monospace;font-weight: bold;background-color: white;display: inline-block;line-height: 1.2em;}#sk-5fec1ae6-e0ec-4401-8148-1f329389a788 div.sk-label-container {position: relative;z-index: 2;text-align: center;}#sk-5fec1ae6-e0ec-4401-8148-1f329389a788 div.sk-container {/* jupyter's `normalize.less` sets `[hidden] { display: none; }` but bootstrap.min.css set `[hidden] { display: none !important; }` so we also need the `!important` here to be able to override the default hidden behavior on the sphinx rendered scikit-learn.org. See: https://github.com/scikit-learn/scikit-learn/issues/21755 */display: inline-block !important;position: relative;}#sk-5fec1ae6-e0ec-4401-8148-1f329389a788 div.sk-text-repr-fallback {display: none;}</style><div id=\"sk-5fec1ae6-e0ec-4401-8148-1f329389a788\" class=\"sk-top-container\"><div class=\"sk-text-repr-fallback\"><pre>Pipeline(steps=[(&#x27;columntransformer&#x27;,\n",
              "                 ColumnTransformer(transformers=[(&#x27;pipeline-1&#x27;,\n",
              "                                                  Pipeline(steps=[(&#x27;simpleimputer&#x27;,\n",
              "                                                                   SimpleImputer()),\n",
              "                                                                  (&#x27;standardscaler&#x27;,\n",
              "                                                                   StandardScaler())]),\n",
              "                                                  &lt;sklearn.compose._column_transformer.make_column_selector object at 0x7f2a2fa1ca00&gt;),\n",
              "                                                 (&#x27;pipeline-2&#x27;,\n",
              "                                                  Pipeline(steps=[(&#x27;simpleimputer&#x27;,\n",
              "                                                                   SimpleImputer(strategy=&#x27;most_frequent&#x27;)),\n",
              "                                                                  (&#x27;onehotencoder&#x27;,\n",
              "                                                                   OneHotEncoder(handle_unknown=&#x27;ignore&#x27;,\n",
              "                                                                                 sparse=False))]),\n",
              "                                                  &lt;sklearn.compose._column_transformer.make_column_selector object at 0x7f2a2fa1c670&gt;)])),\n",
              "                (&#x27;decisiontreeregressor&#x27;,\n",
              "                 DecisionTreeRegressor(random_state=42))])</pre><b>Please rerun this cell to show the HTML repr or trust the notebook.</b></div><div class=\"sk-container\" hidden><div class=\"sk-item sk-dashed-wrapped\"><div class=\"sk-label-container\"><div class=\"sk-label sk-toggleable\"><input class=\"sk-toggleable__control sk-hidden--visually\" id=\"29b3b079-41f4-46db-9fbc-b40818156e61\" type=\"checkbox\" ><label for=\"29b3b079-41f4-46db-9fbc-b40818156e61\" class=\"sk-toggleable__label sk-toggleable__label-arrow\">Pipeline</label><div class=\"sk-toggleable__content\"><pre>Pipeline(steps=[(&#x27;columntransformer&#x27;,\n",
              "                 ColumnTransformer(transformers=[(&#x27;pipeline-1&#x27;,\n",
              "                                                  Pipeline(steps=[(&#x27;simpleimputer&#x27;,\n",
              "                                                                   SimpleImputer()),\n",
              "                                                                  (&#x27;standardscaler&#x27;,\n",
              "                                                                   StandardScaler())]),\n",
              "                                                  &lt;sklearn.compose._column_transformer.make_column_selector object at 0x7f2a2fa1ca00&gt;),\n",
              "                                                 (&#x27;pipeline-2&#x27;,\n",
              "                                                  Pipeline(steps=[(&#x27;simpleimputer&#x27;,\n",
              "                                                                   SimpleImputer(strategy=&#x27;most_frequent&#x27;)),\n",
              "                                                                  (&#x27;onehotencoder&#x27;,\n",
              "                                                                   OneHotEncoder(handle_unknown=&#x27;ignore&#x27;,\n",
              "                                                                                 sparse=False))]),\n",
              "                                                  &lt;sklearn.compose._column_transformer.make_column_selector object at 0x7f2a2fa1c670&gt;)])),\n",
              "                (&#x27;decisiontreeregressor&#x27;,\n",
              "                 DecisionTreeRegressor(random_state=42))])</pre></div></div></div><div class=\"sk-serial\"><div class=\"sk-item sk-dashed-wrapped\"><div class=\"sk-label-container\"><div class=\"sk-label sk-toggleable\"><input class=\"sk-toggleable__control sk-hidden--visually\" id=\"fb949f13-946c-4a07-ab8c-c8e8cbafc3b4\" type=\"checkbox\" ><label for=\"fb949f13-946c-4a07-ab8c-c8e8cbafc3b4\" class=\"sk-toggleable__label sk-toggleable__label-arrow\">columntransformer: ColumnTransformer</label><div class=\"sk-toggleable__content\"><pre>ColumnTransformer(transformers=[(&#x27;pipeline-1&#x27;,\n",
              "                                 Pipeline(steps=[(&#x27;simpleimputer&#x27;,\n",
              "                                                  SimpleImputer()),\n",
              "                                                 (&#x27;standardscaler&#x27;,\n",
              "                                                  StandardScaler())]),\n",
              "                                 &lt;sklearn.compose._column_transformer.make_column_selector object at 0x7f2a2fa1ca00&gt;),\n",
              "                                (&#x27;pipeline-2&#x27;,\n",
              "                                 Pipeline(steps=[(&#x27;simpleimputer&#x27;,\n",
              "                                                  SimpleImputer(strategy=&#x27;most_frequent&#x27;)),\n",
              "                                                 (&#x27;onehotencoder&#x27;,\n",
              "                                                  OneHotEncoder(handle_unknown=&#x27;ignore&#x27;,\n",
              "                                                                sparse=False))]),\n",
              "                                 &lt;sklearn.compose._column_transformer.make_column_selector object at 0x7f2a2fa1c670&gt;)])</pre></div></div></div><div class=\"sk-parallel\"><div class=\"sk-parallel-item\"><div class=\"sk-item\"><div class=\"sk-label-container\"><div class=\"sk-label sk-toggleable\"><input class=\"sk-toggleable__control sk-hidden--visually\" id=\"f76272a5-3fc5-4ee3-b7f4-5cacd5f7bba5\" type=\"checkbox\" ><label for=\"f76272a5-3fc5-4ee3-b7f4-5cacd5f7bba5\" class=\"sk-toggleable__label sk-toggleable__label-arrow\">pipeline-1</label><div class=\"sk-toggleable__content\"><pre>&lt;sklearn.compose._column_transformer.make_column_selector object at 0x7f2a2fa1ca00&gt;</pre></div></div></div><div class=\"sk-serial\"><div class=\"sk-item\"><div class=\"sk-serial\"><div class=\"sk-item\"><div class=\"sk-estimator sk-toggleable\"><input class=\"sk-toggleable__control sk-hidden--visually\" id=\"f1fe6946-a370-4152-9fcc-c80ecdbec763\" type=\"checkbox\" ><label for=\"f1fe6946-a370-4152-9fcc-c80ecdbec763\" class=\"sk-toggleable__label sk-toggleable__label-arrow\">SimpleImputer</label><div class=\"sk-toggleable__content\"><pre>SimpleImputer()</pre></div></div></div><div class=\"sk-item\"><div class=\"sk-estimator sk-toggleable\"><input class=\"sk-toggleable__control sk-hidden--visually\" id=\"70d508d0-67c0-4e76-9f40-174ac75cb6d0\" type=\"checkbox\" ><label for=\"70d508d0-67c0-4e76-9f40-174ac75cb6d0\" class=\"sk-toggleable__label sk-toggleable__label-arrow\">StandardScaler</label><div class=\"sk-toggleable__content\"><pre>StandardScaler()</pre></div></div></div></div></div></div></div></div><div class=\"sk-parallel-item\"><div class=\"sk-item\"><div class=\"sk-label-container\"><div class=\"sk-label sk-toggleable\"><input class=\"sk-toggleable__control sk-hidden--visually\" id=\"57fb7dbd-dda8-4a8e-9d3a-93e91ce2a36c\" type=\"checkbox\" ><label for=\"57fb7dbd-dda8-4a8e-9d3a-93e91ce2a36c\" class=\"sk-toggleable__label sk-toggleable__label-arrow\">pipeline-2</label><div class=\"sk-toggleable__content\"><pre>&lt;sklearn.compose._column_transformer.make_column_selector object at 0x7f2a2fa1c670&gt;</pre></div></div></div><div class=\"sk-serial\"><div class=\"sk-item\"><div class=\"sk-serial\"><div class=\"sk-item\"><div class=\"sk-estimator sk-toggleable\"><input class=\"sk-toggleable__control sk-hidden--visually\" id=\"8d47b53a-dbcb-4007-ba2a-503e50b676e9\" type=\"checkbox\" ><label for=\"8d47b53a-dbcb-4007-ba2a-503e50b676e9\" class=\"sk-toggleable__label sk-toggleable__label-arrow\">SimpleImputer</label><div class=\"sk-toggleable__content\"><pre>SimpleImputer(strategy=&#x27;most_frequent&#x27;)</pre></div></div></div><div class=\"sk-item\"><div class=\"sk-estimator sk-toggleable\"><input class=\"sk-toggleable__control sk-hidden--visually\" id=\"452a4814-c13f-40a0-9197-000da286d0b9\" type=\"checkbox\" ><label for=\"452a4814-c13f-40a0-9197-000da286d0b9\" class=\"sk-toggleable__label sk-toggleable__label-arrow\">OneHotEncoder</label><div class=\"sk-toggleable__content\"><pre>OneHotEncoder(handle_unknown=&#x27;ignore&#x27;, sparse=False)</pre></div></div></div></div></div></div></div></div></div></div><div class=\"sk-item\"><div class=\"sk-estimator sk-toggleable\"><input class=\"sk-toggleable__control sk-hidden--visually\" id=\"fd6a8baf-c00b-4516-b6bd-06e34e02073e\" type=\"checkbox\" ><label for=\"fd6a8baf-c00b-4516-b6bd-06e34e02073e\" class=\"sk-toggleable__label sk-toggleable__label-arrow\">DecisionTreeRegressor</label><div class=\"sk-toggleable__content\"><pre>DecisionTreeRegressor(random_state=42)</pre></div></div></div></div></div></div></div>"
            ]
          },
          "metadata": {},
          "execution_count": 50
        }
      ]
    },
    {
      "cell_type": "code",
      "source": [
        "# display the model metrics\n",
        "model_metrics(dec_tree_pipeline, x_train=X_train, y_train=y_train, \n",
        "                          x_test=X_test, y_test=y_test, \n",
        "                           model_name='Decision Tree Model')"
      ],
      "metadata": {
        "id": "wNhgsOop6y6X",
        "colab": {
          "base_uri": "https://localhost:8080/"
        },
        "outputId": "f3cdb07d-ab7a-4533-eda3-0756cd5db88c"
      },
      "execution_count": 55,
      "outputs": [
        {
          "output_type": "stream",
          "name": "stdout",
          "text": [
            "Decision Tree Model Train Scores\n",
            "MAE: 0.0 \n",
            "MSE: 0.0 \n",
            "RMSE: 0.0 \n",
            "R2: 1.0\n",
            "\n",
            "Decision Tree Model Test Scores\n",
            "MAE: 992.5956 \n",
            "MSE: 2103175.4804 \n",
            "RMSE: 1450.2329 \n",
            "R2: 0.2376974\n",
            "\n"
          ]
        }
      ]
    },
    {
      "cell_type": "markdown",
      "source": [
        "# Create a Bagged Tree Model\n",
        " 1. Create a pipleine\n",
        " 2. Evaluate according to R2 and RMSE"
      ],
      "metadata": {
        "id": "iyjKuafm6QIm"
      }
    },
    {
      "cell_type": "code",
      "source": [
        "# create an instance of the model\n",
        "bag_tree = BaggingRegressor(random_state = 42)\n",
        "# create a pipleine\n",
        "bag_tree_pipe = make_pipeline(preprocessor, bag_tree)\n",
        "# fit the pipeline\n",
        "bag_tree_pipe.fit(X_train, y_train)"
      ],
      "metadata": {
        "colab": {
          "base_uri": "https://localhost:8080/",
          "height": 225
        },
        "id": "3CMyOdTd6kBZ",
        "outputId": "89ac445a-8674-407e-f97a-1c6b106cc29d"
      },
      "execution_count": 58,
      "outputs": [
        {
          "output_type": "execute_result",
          "data": {
            "text/plain": [
              "Pipeline(steps=[('columntransformer',\n",
              "                 ColumnTransformer(transformers=[('pipeline-1',\n",
              "                                                  Pipeline(steps=[('simpleimputer',\n",
              "                                                                   SimpleImputer()),\n",
              "                                                                  ('standardscaler',\n",
              "                                                                   StandardScaler())]),\n",
              "                                                  <sklearn.compose._column_transformer.make_column_selector object at 0x7f2a2fa1ca00>),\n",
              "                                                 ('pipeline-2',\n",
              "                                                  Pipeline(steps=[('simpleimputer',\n",
              "                                                                   SimpleImputer(strategy='most_frequent')),\n",
              "                                                                  ('onehotencoder',\n",
              "                                                                   OneHotEncoder(handle_unknown='ignore',\n",
              "                                                                                 sparse=False))]),\n",
              "                                                  <sklearn.compose._column_transformer.make_column_selector object at 0x7f2a2fa1c670>)])),\n",
              "                ('baggingregressor', BaggingRegressor(random_state=42))])"
            ],
            "text/html": [
              "<style>#sk-12252586-ddf2-48c6-96bb-800715c666a1 {color: black;background-color: white;}#sk-12252586-ddf2-48c6-96bb-800715c666a1 pre{padding: 0;}#sk-12252586-ddf2-48c6-96bb-800715c666a1 div.sk-toggleable {background-color: white;}#sk-12252586-ddf2-48c6-96bb-800715c666a1 label.sk-toggleable__label {cursor: pointer;display: block;width: 100%;margin-bottom: 0;padding: 0.3em;box-sizing: border-box;text-align: center;}#sk-12252586-ddf2-48c6-96bb-800715c666a1 label.sk-toggleable__label-arrow:before {content: \"▸\";float: left;margin-right: 0.25em;color: #696969;}#sk-12252586-ddf2-48c6-96bb-800715c666a1 label.sk-toggleable__label-arrow:hover:before {color: black;}#sk-12252586-ddf2-48c6-96bb-800715c666a1 div.sk-estimator:hover label.sk-toggleable__label-arrow:before {color: black;}#sk-12252586-ddf2-48c6-96bb-800715c666a1 div.sk-toggleable__content {max-height: 0;max-width: 0;overflow: hidden;text-align: left;background-color: #f0f8ff;}#sk-12252586-ddf2-48c6-96bb-800715c666a1 div.sk-toggleable__content pre {margin: 0.2em;color: black;border-radius: 0.25em;background-color: #f0f8ff;}#sk-12252586-ddf2-48c6-96bb-800715c666a1 input.sk-toggleable__control:checked~div.sk-toggleable__content {max-height: 200px;max-width: 100%;overflow: auto;}#sk-12252586-ddf2-48c6-96bb-800715c666a1 input.sk-toggleable__control:checked~label.sk-toggleable__label-arrow:before {content: \"▾\";}#sk-12252586-ddf2-48c6-96bb-800715c666a1 div.sk-estimator input.sk-toggleable__control:checked~label.sk-toggleable__label {background-color: #d4ebff;}#sk-12252586-ddf2-48c6-96bb-800715c666a1 div.sk-label input.sk-toggleable__control:checked~label.sk-toggleable__label {background-color: #d4ebff;}#sk-12252586-ddf2-48c6-96bb-800715c666a1 input.sk-hidden--visually {border: 0;clip: rect(1px 1px 1px 1px);clip: rect(1px, 1px, 1px, 1px);height: 1px;margin: -1px;overflow: hidden;padding: 0;position: absolute;width: 1px;}#sk-12252586-ddf2-48c6-96bb-800715c666a1 div.sk-estimator {font-family: monospace;background-color: #f0f8ff;border: 1px dotted black;border-radius: 0.25em;box-sizing: border-box;margin-bottom: 0.5em;}#sk-12252586-ddf2-48c6-96bb-800715c666a1 div.sk-estimator:hover {background-color: #d4ebff;}#sk-12252586-ddf2-48c6-96bb-800715c666a1 div.sk-parallel-item::after {content: \"\";width: 100%;border-bottom: 1px solid gray;flex-grow: 1;}#sk-12252586-ddf2-48c6-96bb-800715c666a1 div.sk-label:hover label.sk-toggleable__label {background-color: #d4ebff;}#sk-12252586-ddf2-48c6-96bb-800715c666a1 div.sk-serial::before {content: \"\";position: absolute;border-left: 1px solid gray;box-sizing: border-box;top: 2em;bottom: 0;left: 50%;}#sk-12252586-ddf2-48c6-96bb-800715c666a1 div.sk-serial {display: flex;flex-direction: column;align-items: center;background-color: white;padding-right: 0.2em;padding-left: 0.2em;}#sk-12252586-ddf2-48c6-96bb-800715c666a1 div.sk-item {z-index: 1;}#sk-12252586-ddf2-48c6-96bb-800715c666a1 div.sk-parallel {display: flex;align-items: stretch;justify-content: center;background-color: white;}#sk-12252586-ddf2-48c6-96bb-800715c666a1 div.sk-parallel::before {content: \"\";position: absolute;border-left: 1px solid gray;box-sizing: border-box;top: 2em;bottom: 0;left: 50%;}#sk-12252586-ddf2-48c6-96bb-800715c666a1 div.sk-parallel-item {display: flex;flex-direction: column;position: relative;background-color: white;}#sk-12252586-ddf2-48c6-96bb-800715c666a1 div.sk-parallel-item:first-child::after {align-self: flex-end;width: 50%;}#sk-12252586-ddf2-48c6-96bb-800715c666a1 div.sk-parallel-item:last-child::after {align-self: flex-start;width: 50%;}#sk-12252586-ddf2-48c6-96bb-800715c666a1 div.sk-parallel-item:only-child::after {width: 0;}#sk-12252586-ddf2-48c6-96bb-800715c666a1 div.sk-dashed-wrapped {border: 1px dashed gray;margin: 0 0.4em 0.5em 0.4em;box-sizing: border-box;padding-bottom: 0.4em;background-color: white;position: relative;}#sk-12252586-ddf2-48c6-96bb-800715c666a1 div.sk-label label {font-family: monospace;font-weight: bold;background-color: white;display: inline-block;line-height: 1.2em;}#sk-12252586-ddf2-48c6-96bb-800715c666a1 div.sk-label-container {position: relative;z-index: 2;text-align: center;}#sk-12252586-ddf2-48c6-96bb-800715c666a1 div.sk-container {/* jupyter's `normalize.less` sets `[hidden] { display: none; }` but bootstrap.min.css set `[hidden] { display: none !important; }` so we also need the `!important` here to be able to override the default hidden behavior on the sphinx rendered scikit-learn.org. See: https://github.com/scikit-learn/scikit-learn/issues/21755 */display: inline-block !important;position: relative;}#sk-12252586-ddf2-48c6-96bb-800715c666a1 div.sk-text-repr-fallback {display: none;}</style><div id=\"sk-12252586-ddf2-48c6-96bb-800715c666a1\" class=\"sk-top-container\"><div class=\"sk-text-repr-fallback\"><pre>Pipeline(steps=[(&#x27;columntransformer&#x27;,\n",
              "                 ColumnTransformer(transformers=[(&#x27;pipeline-1&#x27;,\n",
              "                                                  Pipeline(steps=[(&#x27;simpleimputer&#x27;,\n",
              "                                                                   SimpleImputer()),\n",
              "                                                                  (&#x27;standardscaler&#x27;,\n",
              "                                                                   StandardScaler())]),\n",
              "                                                  &lt;sklearn.compose._column_transformer.make_column_selector object at 0x7f2a2fa1ca00&gt;),\n",
              "                                                 (&#x27;pipeline-2&#x27;,\n",
              "                                                  Pipeline(steps=[(&#x27;simpleimputer&#x27;,\n",
              "                                                                   SimpleImputer(strategy=&#x27;most_frequent&#x27;)),\n",
              "                                                                  (&#x27;onehotencoder&#x27;,\n",
              "                                                                   OneHotEncoder(handle_unknown=&#x27;ignore&#x27;,\n",
              "                                                                                 sparse=False))]),\n",
              "                                                  &lt;sklearn.compose._column_transformer.make_column_selector object at 0x7f2a2fa1c670&gt;)])),\n",
              "                (&#x27;baggingregressor&#x27;, BaggingRegressor(random_state=42))])</pre><b>Please rerun this cell to show the HTML repr or trust the notebook.</b></div><div class=\"sk-container\" hidden><div class=\"sk-item sk-dashed-wrapped\"><div class=\"sk-label-container\"><div class=\"sk-label sk-toggleable\"><input class=\"sk-toggleable__control sk-hidden--visually\" id=\"39b4b702-eba6-4ed7-a7e9-8df58ca3c5ad\" type=\"checkbox\" ><label for=\"39b4b702-eba6-4ed7-a7e9-8df58ca3c5ad\" class=\"sk-toggleable__label sk-toggleable__label-arrow\">Pipeline</label><div class=\"sk-toggleable__content\"><pre>Pipeline(steps=[(&#x27;columntransformer&#x27;,\n",
              "                 ColumnTransformer(transformers=[(&#x27;pipeline-1&#x27;,\n",
              "                                                  Pipeline(steps=[(&#x27;simpleimputer&#x27;,\n",
              "                                                                   SimpleImputer()),\n",
              "                                                                  (&#x27;standardscaler&#x27;,\n",
              "                                                                   StandardScaler())]),\n",
              "                                                  &lt;sklearn.compose._column_transformer.make_column_selector object at 0x7f2a2fa1ca00&gt;),\n",
              "                                                 (&#x27;pipeline-2&#x27;,\n",
              "                                                  Pipeline(steps=[(&#x27;simpleimputer&#x27;,\n",
              "                                                                   SimpleImputer(strategy=&#x27;most_frequent&#x27;)),\n",
              "                                                                  (&#x27;onehotencoder&#x27;,\n",
              "                                                                   OneHotEncoder(handle_unknown=&#x27;ignore&#x27;,\n",
              "                                                                                 sparse=False))]),\n",
              "                                                  &lt;sklearn.compose._column_transformer.make_column_selector object at 0x7f2a2fa1c670&gt;)])),\n",
              "                (&#x27;baggingregressor&#x27;, BaggingRegressor(random_state=42))])</pre></div></div></div><div class=\"sk-serial\"><div class=\"sk-item sk-dashed-wrapped\"><div class=\"sk-label-container\"><div class=\"sk-label sk-toggleable\"><input class=\"sk-toggleable__control sk-hidden--visually\" id=\"e1b5530d-73c6-46ad-abc1-df5b969b24b5\" type=\"checkbox\" ><label for=\"e1b5530d-73c6-46ad-abc1-df5b969b24b5\" class=\"sk-toggleable__label sk-toggleable__label-arrow\">columntransformer: ColumnTransformer</label><div class=\"sk-toggleable__content\"><pre>ColumnTransformer(transformers=[(&#x27;pipeline-1&#x27;,\n",
              "                                 Pipeline(steps=[(&#x27;simpleimputer&#x27;,\n",
              "                                                  SimpleImputer()),\n",
              "                                                 (&#x27;standardscaler&#x27;,\n",
              "                                                  StandardScaler())]),\n",
              "                                 &lt;sklearn.compose._column_transformer.make_column_selector object at 0x7f2a2fa1ca00&gt;),\n",
              "                                (&#x27;pipeline-2&#x27;,\n",
              "                                 Pipeline(steps=[(&#x27;simpleimputer&#x27;,\n",
              "                                                  SimpleImputer(strategy=&#x27;most_frequent&#x27;)),\n",
              "                                                 (&#x27;onehotencoder&#x27;,\n",
              "                                                  OneHotEncoder(handle_unknown=&#x27;ignore&#x27;,\n",
              "                                                                sparse=False))]),\n",
              "                                 &lt;sklearn.compose._column_transformer.make_column_selector object at 0x7f2a2fa1c670&gt;)])</pre></div></div></div><div class=\"sk-parallel\"><div class=\"sk-parallel-item\"><div class=\"sk-item\"><div class=\"sk-label-container\"><div class=\"sk-label sk-toggleable\"><input class=\"sk-toggleable__control sk-hidden--visually\" id=\"e0cf62cc-f20f-474a-ba83-c1f147276a4c\" type=\"checkbox\" ><label for=\"e0cf62cc-f20f-474a-ba83-c1f147276a4c\" class=\"sk-toggleable__label sk-toggleable__label-arrow\">pipeline-1</label><div class=\"sk-toggleable__content\"><pre>&lt;sklearn.compose._column_transformer.make_column_selector object at 0x7f2a2fa1ca00&gt;</pre></div></div></div><div class=\"sk-serial\"><div class=\"sk-item\"><div class=\"sk-serial\"><div class=\"sk-item\"><div class=\"sk-estimator sk-toggleable\"><input class=\"sk-toggleable__control sk-hidden--visually\" id=\"c11d6f77-6cab-419d-ab44-a297706b1387\" type=\"checkbox\" ><label for=\"c11d6f77-6cab-419d-ab44-a297706b1387\" class=\"sk-toggleable__label sk-toggleable__label-arrow\">SimpleImputer</label><div class=\"sk-toggleable__content\"><pre>SimpleImputer()</pre></div></div></div><div class=\"sk-item\"><div class=\"sk-estimator sk-toggleable\"><input class=\"sk-toggleable__control sk-hidden--visually\" id=\"321ab8ba-3d68-4491-8d03-26e950faccf3\" type=\"checkbox\" ><label for=\"321ab8ba-3d68-4491-8d03-26e950faccf3\" class=\"sk-toggleable__label sk-toggleable__label-arrow\">StandardScaler</label><div class=\"sk-toggleable__content\"><pre>StandardScaler()</pre></div></div></div></div></div></div></div></div><div class=\"sk-parallel-item\"><div class=\"sk-item\"><div class=\"sk-label-container\"><div class=\"sk-label sk-toggleable\"><input class=\"sk-toggleable__control sk-hidden--visually\" id=\"1a168dc6-e11e-452a-9732-bb4c3febd847\" type=\"checkbox\" ><label for=\"1a168dc6-e11e-452a-9732-bb4c3febd847\" class=\"sk-toggleable__label sk-toggleable__label-arrow\">pipeline-2</label><div class=\"sk-toggleable__content\"><pre>&lt;sklearn.compose._column_transformer.make_column_selector object at 0x7f2a2fa1c670&gt;</pre></div></div></div><div class=\"sk-serial\"><div class=\"sk-item\"><div class=\"sk-serial\"><div class=\"sk-item\"><div class=\"sk-estimator sk-toggleable\"><input class=\"sk-toggleable__control sk-hidden--visually\" id=\"bb0c6b54-6c29-41cd-b734-453b5a9d579f\" type=\"checkbox\" ><label for=\"bb0c6b54-6c29-41cd-b734-453b5a9d579f\" class=\"sk-toggleable__label sk-toggleable__label-arrow\">SimpleImputer</label><div class=\"sk-toggleable__content\"><pre>SimpleImputer(strategy=&#x27;most_frequent&#x27;)</pre></div></div></div><div class=\"sk-item\"><div class=\"sk-estimator sk-toggleable\"><input class=\"sk-toggleable__control sk-hidden--visually\" id=\"b6e7cb63-11de-4c9c-94c0-3b07ea343c9d\" type=\"checkbox\" ><label for=\"b6e7cb63-11de-4c9c-94c0-3b07ea343c9d\" class=\"sk-toggleable__label sk-toggleable__label-arrow\">OneHotEncoder</label><div class=\"sk-toggleable__content\"><pre>OneHotEncoder(handle_unknown=&#x27;ignore&#x27;, sparse=False)</pre></div></div></div></div></div></div></div></div></div></div><div class=\"sk-item\"><div class=\"sk-estimator sk-toggleable\"><input class=\"sk-toggleable__control sk-hidden--visually\" id=\"411d884b-69d1-417d-91d8-ba253bfc9ab8\" type=\"checkbox\" ><label for=\"411d884b-69d1-417d-91d8-ba253bfc9ab8\" class=\"sk-toggleable__label sk-toggleable__label-arrow\">BaggingRegressor</label><div class=\"sk-toggleable__content\"><pre>BaggingRegressor(random_state=42)</pre></div></div></div></div></div></div></div>"
            ]
          },
          "metadata": {},
          "execution_count": 58
        }
      ]
    },
    {
      "cell_type": "code",
      "source": [
        "# evaluate using model metrics\n",
        "model_metrics(bag_tree_pipe, x_train=X_train, y_train=y_train, \n",
        "                          x_test=X_test, y_test=y_test, \n",
        "                           model_name='Bagged Trees Model')"
      ],
      "metadata": {
        "colab": {
          "base_uri": "https://localhost:8080/"
        },
        "id": "x2Uge5he7WGu",
        "outputId": "438a8bb5-1a10-40c8-b411-9aed524a208f"
      },
      "execution_count": 60,
      "outputs": [
        {
          "output_type": "stream",
          "name": "stdout",
          "text": [
            "Bagged Trees Model Train Scores\n",
            "MAE: 316.5676 \n",
            "MSE: 240010.0091 \n",
            "RMSE: 489.9082 \n",
            "R2: 0.9189006\n",
            "\n",
            "Bagged Trees Model Test Scores\n",
            "MAE: 785.6302 \n",
            "MSE: 1279423.2806 \n",
            "RMSE: 1131.1159 \n",
            "R2: 0.536269\n",
            "\n"
          ]
        }
      ]
    }
  ]
}