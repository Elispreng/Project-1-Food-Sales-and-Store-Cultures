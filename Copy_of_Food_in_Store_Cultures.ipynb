{
  "nbformat": 4,
  "nbformat_minor": 0,
  "metadata": {
    "colab": {
      "provenance": [],
      "toc_visible": true,
      "authorship_tag": "ABX9TyPJdr6YGvS0DczusRgk8s2E",
      "include_colab_link": true
    },
    "kernelspec": {
      "name": "python3",
      "display_name": "Python 3"
    },
    "language_info": {
      "name": "python"
    }
  },
  "cells": [
    {
      "cell_type": "markdown",
      "metadata": {
        "id": "view-in-github",
        "colab_type": "text"
      },
      "source": [
        "<a href=\"https://colab.research.google.com/github/Elispreng/Project-1-Food-Sales-and-Store-Cultures/blob/main/Copy_of_Food_in_Store_Cultures.ipynb\" target=\"_parent\"><img src=\"https://colab.research.google.com/assets/colab-badge.svg\" alt=\"Open In Colab\"/></a>"
      ]
    },
    {
      "cell_type": "code",
      "execution_count": null,
      "metadata": {
        "id": "LPzFO9rrPybW"
      },
      "outputs": [],
      "source": []
    },
    {
      "cell_type": "markdown",
      "source": [
        "## Project 1: Part **1**"
      ],
      "metadata": {
        "id": "eIdmIYOZQ4q0"
      }
    },
    {
      "cell_type": "markdown",
      "source": [
        "\n",
        "\n",
        "> Eli Spreng\n"
      ],
      "metadata": {
        "id": "GY6cL1CYRYQa"
      }
    },
    {
      "cell_type": "markdown",
      "source": [
        "# Loading Data"
      ],
      "metadata": {
        "id": "K6pGpaVnSDPp"
      }
    },
    {
      "cell_type": "markdown",
      "source": [
        "# Data Cleaning"
      ],
      "metadata": {
        "id": "cxoQGDPUSKr9"
      }
    },
    {
      "cell_type": "markdown",
      "source": [
        "# Exploratory Visuals"
      ],
      "metadata": {
        "id": "72mU91dATCFc"
      }
    },
    {
      "cell_type": "markdown",
      "source": [
        "# Exploratory Visuals"
      ],
      "metadata": {
        "id": "ihx4M1bITKhG"
      }
    }
  ]
}